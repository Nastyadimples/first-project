{
 "cells": [
  {
   "cell_type": "markdown",
   "metadata": {
    "toc": true
   },
   "source": [
    "<h1>Содержание<span class=\"tocSkip\"></span></h1>\n",
    "<div class=\"toc\"><ul class=\"toc-item\"><li><span><a href=\"#Подготовка-данных\" data-toc-modified-id=\"Подготовка-данных-1\"><span class=\"toc-item-num\">1&nbsp;&nbsp;</span>Подготовка данных</a></span></li><li><span><a href=\"#Исследование-задачи\" data-toc-modified-id=\"Исследование-задачи-2\"><span class=\"toc-item-num\">2&nbsp;&nbsp;</span>Исследование задачи</a></span></li><li><span><a href=\"#Борьба-с-дисбалансом\" data-toc-modified-id=\"Борьба-с-дисбалансом-3\"><span class=\"toc-item-num\">3&nbsp;&nbsp;</span>Борьба с дисбалансом</a></span></li><li><span><a href=\"#Тестирование-модели\" data-toc-modified-id=\"Тестирование-модели-4\"><span class=\"toc-item-num\">4&nbsp;&nbsp;</span>Тестирование модели</a></span></li><li><span><a href=\"#Вывод\" data-toc-modified-id=\"Вывод-5\"><span class=\"toc-item-num\">5&nbsp;&nbsp;</span>Вывод</a></span></li><li><span><a href=\"#Чек-лист-готовности-проекта\" data-toc-modified-id=\"Чек-лист-готовности-проекта-6\"><span class=\"toc-item-num\">6&nbsp;&nbsp;</span>Чек-лист готовности проекта</a></span></li></ul></div>"
   ]
  },
  {
   "cell_type": "markdown",
   "metadata": {},
   "source": [
    "# Отток клиентов"
   ]
  },
  {
   "cell_type": "markdown",
   "metadata": {},
   "source": [
    "Из «Бета-Банка» стали уходить клиенты. Каждый месяц. Немного, но заметно. Банковские маркетологи посчитали: сохранять текущих клиентов дешевле, чем привлекать новых.\n",
    "\n",
    "Нужно спрогнозировать, уйдёт клиент из банка в ближайшее время или нет. Вам предоставлены исторические данные о поведении клиентов и расторжении договоров с банком. \n",
    "\n",
    "Постройте модель с предельно большим значением *F1*-меры. Чтобы сдать проект успешно, нужно довести метрику до 0.59. Проверьте *F1*-меру на тестовой выборке самостоятельно.\n",
    "\n",
    "Дополнительно измеряйте *AUC-ROC*, сравнивайте её значение с *F1*-мерой.\n",
    "\n",
    "Источник данных: [https://www.kaggle.com/barelydedicated/bank-customer-churn-modeling](https://www.kaggle.com/barelydedicated/bank-customer-churn-modeling)"
   ]
  },
  {
   "cell_type": "markdown",
   "metadata": {},
   "source": [
    "## Подготовка данных"
   ]
  },
  {
   "cell_type": "code",
   "execution_count": 1,
   "metadata": {},
   "outputs": [],
   "source": [
    "#импортируем библиотеки\n",
    "import pandas as pd\n",
    "import numpy as np\n",
    "\n",
    "from sklearn.ensemble import RandomForestClassifier\n",
    "from sklearn.linear_model import LogisticRegression\n",
    "from sklearn.tree import DecisionTreeClassifier\n",
    "\n",
    "from sklearn.model_selection import train_test_split, GridSearchCV\n",
    "from sklearn.model_selection import GridSearchCV\n",
    "\n",
    "from sklearn.preprocessing import LabelEncoder, StandardScaler, OneHotEncoder\n",
    "from sklearn.metrics import f1_score, roc_auc_score, accuracy_score\n",
    "\n",
    "from sklearn.utils import shuffle"
   ]
  },
  {
   "cell_type": "code",
   "execution_count": 2,
   "metadata": {},
   "outputs": [
    {
     "data": {
      "text/html": [
       "<div>\n",
       "<style scoped>\n",
       "    .dataframe tbody tr th:only-of-type {\n",
       "        vertical-align: middle;\n",
       "    }\n",
       "\n",
       "    .dataframe tbody tr th {\n",
       "        vertical-align: top;\n",
       "    }\n",
       "\n",
       "    .dataframe thead th {\n",
       "        text-align: right;\n",
       "    }\n",
       "</style>\n",
       "<table border=\"1\" class=\"dataframe\">\n",
       "  <thead>\n",
       "    <tr style=\"text-align: right;\">\n",
       "      <th></th>\n",
       "      <th>RowNumber</th>\n",
       "      <th>CustomerId</th>\n",
       "      <th>Surname</th>\n",
       "      <th>CreditScore</th>\n",
       "      <th>Geography</th>\n",
       "      <th>Gender</th>\n",
       "      <th>Age</th>\n",
       "      <th>Tenure</th>\n",
       "      <th>Balance</th>\n",
       "      <th>NumOfProducts</th>\n",
       "      <th>HasCrCard</th>\n",
       "      <th>IsActiveMember</th>\n",
       "      <th>EstimatedSalary</th>\n",
       "      <th>Exited</th>\n",
       "    </tr>\n",
       "  </thead>\n",
       "  <tbody>\n",
       "    <tr>\n",
       "      <th>0</th>\n",
       "      <td>1</td>\n",
       "      <td>15634602</td>\n",
       "      <td>Hargrave</td>\n",
       "      <td>619</td>\n",
       "      <td>France</td>\n",
       "      <td>Female</td>\n",
       "      <td>42</td>\n",
       "      <td>2.0</td>\n",
       "      <td>0.00</td>\n",
       "      <td>1</td>\n",
       "      <td>1</td>\n",
       "      <td>1</td>\n",
       "      <td>101348.88</td>\n",
       "      <td>1</td>\n",
       "    </tr>\n",
       "    <tr>\n",
       "      <th>1</th>\n",
       "      <td>2</td>\n",
       "      <td>15647311</td>\n",
       "      <td>Hill</td>\n",
       "      <td>608</td>\n",
       "      <td>Spain</td>\n",
       "      <td>Female</td>\n",
       "      <td>41</td>\n",
       "      <td>1.0</td>\n",
       "      <td>83807.86</td>\n",
       "      <td>1</td>\n",
       "      <td>0</td>\n",
       "      <td>1</td>\n",
       "      <td>112542.58</td>\n",
       "      <td>0</td>\n",
       "    </tr>\n",
       "    <tr>\n",
       "      <th>2</th>\n",
       "      <td>3</td>\n",
       "      <td>15619304</td>\n",
       "      <td>Onio</td>\n",
       "      <td>502</td>\n",
       "      <td>France</td>\n",
       "      <td>Female</td>\n",
       "      <td>42</td>\n",
       "      <td>8.0</td>\n",
       "      <td>159660.80</td>\n",
       "      <td>3</td>\n",
       "      <td>1</td>\n",
       "      <td>0</td>\n",
       "      <td>113931.57</td>\n",
       "      <td>1</td>\n",
       "    </tr>\n",
       "    <tr>\n",
       "      <th>3</th>\n",
       "      <td>4</td>\n",
       "      <td>15701354</td>\n",
       "      <td>Boni</td>\n",
       "      <td>699</td>\n",
       "      <td>France</td>\n",
       "      <td>Female</td>\n",
       "      <td>39</td>\n",
       "      <td>1.0</td>\n",
       "      <td>0.00</td>\n",
       "      <td>2</td>\n",
       "      <td>0</td>\n",
       "      <td>0</td>\n",
       "      <td>93826.63</td>\n",
       "      <td>0</td>\n",
       "    </tr>\n",
       "    <tr>\n",
       "      <th>4</th>\n",
       "      <td>5</td>\n",
       "      <td>15737888</td>\n",
       "      <td>Mitchell</td>\n",
       "      <td>850</td>\n",
       "      <td>Spain</td>\n",
       "      <td>Female</td>\n",
       "      <td>43</td>\n",
       "      <td>2.0</td>\n",
       "      <td>125510.82</td>\n",
       "      <td>1</td>\n",
       "      <td>1</td>\n",
       "      <td>1</td>\n",
       "      <td>79084.10</td>\n",
       "      <td>0</td>\n",
       "    </tr>\n",
       "  </tbody>\n",
       "</table>\n",
       "</div>"
      ],
      "text/plain": [
       "   RowNumber  CustomerId   Surname  CreditScore Geography  Gender  Age  \\\n",
       "0          1    15634602  Hargrave          619    France  Female   42   \n",
       "1          2    15647311      Hill          608     Spain  Female   41   \n",
       "2          3    15619304      Onio          502    France  Female   42   \n",
       "3          4    15701354      Boni          699    France  Female   39   \n",
       "4          5    15737888  Mitchell          850     Spain  Female   43   \n",
       "\n",
       "   Tenure    Balance  NumOfProducts  HasCrCard  IsActiveMember  \\\n",
       "0     2.0       0.00              1          1               1   \n",
       "1     1.0   83807.86              1          0               1   \n",
       "2     8.0  159660.80              3          1               0   \n",
       "3     1.0       0.00              2          0               0   \n",
       "4     2.0  125510.82              1          1               1   \n",
       "\n",
       "   EstimatedSalary  Exited  \n",
       "0        101348.88       1  \n",
       "1        112542.58       0  \n",
       "2        113931.57       1  \n",
       "3         93826.63       0  \n",
       "4         79084.10       0  "
      ]
     },
     "metadata": {},
     "output_type": "display_data"
    },
    {
     "name": "stdout",
     "output_type": "stream",
     "text": [
      "<class 'pandas.core.frame.DataFrame'>\n",
      "RangeIndex: 10000 entries, 0 to 9999\n",
      "Data columns (total 14 columns):\n",
      " #   Column           Non-Null Count  Dtype  \n",
      "---  ------           --------------  -----  \n",
      " 0   RowNumber        10000 non-null  int64  \n",
      " 1   CustomerId       10000 non-null  int64  \n",
      " 2   Surname          10000 non-null  object \n",
      " 3   CreditScore      10000 non-null  int64  \n",
      " 4   Geography        10000 non-null  object \n",
      " 5   Gender           10000 non-null  object \n",
      " 6   Age              10000 non-null  int64  \n",
      " 7   Tenure           9091 non-null   float64\n",
      " 8   Balance          10000 non-null  float64\n",
      " 9   NumOfProducts    10000 non-null  int64  \n",
      " 10  HasCrCard        10000 non-null  int64  \n",
      " 11  IsActiveMember   10000 non-null  int64  \n",
      " 12  EstimatedSalary  10000 non-null  float64\n",
      " 13  Exited           10000 non-null  int64  \n",
      "dtypes: float64(3), int64(8), object(3)\n",
      "memory usage: 1.1+ MB\n"
     ]
    }
   ],
   "source": [
    "#откроем файл и изучим его содержимое\n",
    "df = pd.read_csv('/datasets/Churn.csv')\n",
    "display(df.head())\n",
    "df.info()"
   ]
  },
  {
   "cell_type": "markdown",
   "metadata": {},
   "source": [
    "Согласно документации, в датасете имеются следующие признаки:\n",
    "* RowNumber — индекс строки в данных\n",
    "* CustomerId — уникальный идентификатор клиента\n",
    "* Surname — фамилия\n",
    "* CreditScore — кредитный рейтинг\n",
    "* Geography — страна проживания\n",
    "* Gender — пол\n",
    "* Age — возраст\n",
    "* Tenure — сколько лет человек является клиентом банка\n",
    "* Balance — баланс на счёте\n",
    "* NumOfProducts — количество продуктов банка, используемых клиентом\n",
    "* HasCrCard — наличие кредитной карты\n",
    "* IsActiveMember — активность клиента\n",
    "* EstimatedSalary — предполагаемая зарплата"
   ]
  },
  {
   "cell_type": "code",
   "execution_count": 3,
   "metadata": {},
   "outputs": [],
   "source": [
    "# удалим данные, которые нам не потребуются\n",
    "df.drop(['RowNumber','CustomerId','Surname'],axis=1,inplace=True)"
   ]
  },
  {
   "cell_type": "code",
   "execution_count": 4,
   "metadata": {},
   "outputs": [
    {
     "data": {
      "text/plain": [
       "CreditScore        0.0000\n",
       "Geography          0.0000\n",
       "Gender             0.0000\n",
       "Age                0.0000\n",
       "Tenure             0.0909\n",
       "Balance            0.0000\n",
       "NumOfProducts      0.0000\n",
       "HasCrCard          0.0000\n",
       "IsActiveMember     0.0000\n",
       "EstimatedSalary    0.0000\n",
       "Exited             0.0000\n",
       "dtype: float64"
      ]
     },
     "execution_count": 4,
     "metadata": {},
     "output_type": "execute_result"
    }
   ],
   "source": [
    "df.isnull().mean()"
   ]
  },
  {
   "cell_type": "code",
   "execution_count": 5,
   "metadata": {},
   "outputs": [
    {
     "data": {
      "text/html": [
       "<div>\n",
       "<style scoped>\n",
       "    .dataframe tbody tr th:only-of-type {\n",
       "        vertical-align: middle;\n",
       "    }\n",
       "\n",
       "    .dataframe tbody tr th {\n",
       "        vertical-align: top;\n",
       "    }\n",
       "\n",
       "    .dataframe thead th {\n",
       "        text-align: right;\n",
       "    }\n",
       "</style>\n",
       "<table border=\"1\" class=\"dataframe\">\n",
       "  <thead>\n",
       "    <tr style=\"text-align: right;\">\n",
       "      <th></th>\n",
       "      <th>CreditScore</th>\n",
       "      <th>Geography</th>\n",
       "      <th>Gender</th>\n",
       "      <th>Age</th>\n",
       "      <th>Tenure</th>\n",
       "      <th>Balance</th>\n",
       "      <th>NumOfProducts</th>\n",
       "      <th>HasCrCard</th>\n",
       "      <th>IsActiveMember</th>\n",
       "      <th>EstimatedSalary</th>\n",
       "      <th>Exited</th>\n",
       "    </tr>\n",
       "  </thead>\n",
       "  <tbody>\n",
       "    <tr>\n",
       "      <th>30</th>\n",
       "      <td>591</td>\n",
       "      <td>Spain</td>\n",
       "      <td>Female</td>\n",
       "      <td>39</td>\n",
       "      <td>NaN</td>\n",
       "      <td>0.00</td>\n",
       "      <td>3</td>\n",
       "      <td>1</td>\n",
       "      <td>0</td>\n",
       "      <td>140469.38</td>\n",
       "      <td>1</td>\n",
       "    </tr>\n",
       "    <tr>\n",
       "      <th>48</th>\n",
       "      <td>550</td>\n",
       "      <td>Germany</td>\n",
       "      <td>Male</td>\n",
       "      <td>38</td>\n",
       "      <td>NaN</td>\n",
       "      <td>103391.38</td>\n",
       "      <td>1</td>\n",
       "      <td>0</td>\n",
       "      <td>1</td>\n",
       "      <td>90878.13</td>\n",
       "      <td>0</td>\n",
       "    </tr>\n",
       "    <tr>\n",
       "      <th>51</th>\n",
       "      <td>585</td>\n",
       "      <td>Germany</td>\n",
       "      <td>Male</td>\n",
       "      <td>36</td>\n",
       "      <td>NaN</td>\n",
       "      <td>146050.97</td>\n",
       "      <td>2</td>\n",
       "      <td>0</td>\n",
       "      <td>0</td>\n",
       "      <td>86424.57</td>\n",
       "      <td>0</td>\n",
       "    </tr>\n",
       "    <tr>\n",
       "      <th>53</th>\n",
       "      <td>655</td>\n",
       "      <td>Germany</td>\n",
       "      <td>Male</td>\n",
       "      <td>41</td>\n",
       "      <td>NaN</td>\n",
       "      <td>125561.97</td>\n",
       "      <td>1</td>\n",
       "      <td>0</td>\n",
       "      <td>0</td>\n",
       "      <td>164040.94</td>\n",
       "      <td>1</td>\n",
       "    </tr>\n",
       "    <tr>\n",
       "      <th>60</th>\n",
       "      <td>742</td>\n",
       "      <td>Germany</td>\n",
       "      <td>Male</td>\n",
       "      <td>35</td>\n",
       "      <td>NaN</td>\n",
       "      <td>136857.00</td>\n",
       "      <td>1</td>\n",
       "      <td>0</td>\n",
       "      <td>0</td>\n",
       "      <td>84509.57</td>\n",
       "      <td>0</td>\n",
       "    </tr>\n",
       "    <tr>\n",
       "      <th>82</th>\n",
       "      <td>543</td>\n",
       "      <td>France</td>\n",
       "      <td>Female</td>\n",
       "      <td>36</td>\n",
       "      <td>NaN</td>\n",
       "      <td>0.00</td>\n",
       "      <td>2</td>\n",
       "      <td>0</td>\n",
       "      <td>0</td>\n",
       "      <td>26019.59</td>\n",
       "      <td>0</td>\n",
       "    </tr>\n",
       "    <tr>\n",
       "      <th>85</th>\n",
       "      <td>652</td>\n",
       "      <td>Spain</td>\n",
       "      <td>Female</td>\n",
       "      <td>75</td>\n",
       "      <td>NaN</td>\n",
       "      <td>0.00</td>\n",
       "      <td>2</td>\n",
       "      <td>1</td>\n",
       "      <td>1</td>\n",
       "      <td>114675.75</td>\n",
       "      <td>0</td>\n",
       "    </tr>\n",
       "    <tr>\n",
       "      <th>94</th>\n",
       "      <td>730</td>\n",
       "      <td>Spain</td>\n",
       "      <td>Male</td>\n",
       "      <td>42</td>\n",
       "      <td>NaN</td>\n",
       "      <td>0.00</td>\n",
       "      <td>2</td>\n",
       "      <td>0</td>\n",
       "      <td>1</td>\n",
       "      <td>85982.47</td>\n",
       "      <td>0</td>\n",
       "    </tr>\n",
       "    <tr>\n",
       "      <th>99</th>\n",
       "      <td>413</td>\n",
       "      <td>France</td>\n",
       "      <td>Male</td>\n",
       "      <td>34</td>\n",
       "      <td>NaN</td>\n",
       "      <td>0.00</td>\n",
       "      <td>2</td>\n",
       "      <td>0</td>\n",
       "      <td>0</td>\n",
       "      <td>6534.18</td>\n",
       "      <td>0</td>\n",
       "    </tr>\n",
       "    <tr>\n",
       "      <th>111</th>\n",
       "      <td>538</td>\n",
       "      <td>Germany</td>\n",
       "      <td>Male</td>\n",
       "      <td>39</td>\n",
       "      <td>NaN</td>\n",
       "      <td>108055.10</td>\n",
       "      <td>2</td>\n",
       "      <td>1</td>\n",
       "      <td>0</td>\n",
       "      <td>27231.26</td>\n",
       "      <td>0</td>\n",
       "    </tr>\n",
       "  </tbody>\n",
       "</table>\n",
       "</div>"
      ],
      "text/plain": [
       "     CreditScore Geography  Gender  Age  Tenure    Balance  NumOfProducts  \\\n",
       "30           591     Spain  Female   39     NaN       0.00              3   \n",
       "48           550   Germany    Male   38     NaN  103391.38              1   \n",
       "51           585   Germany    Male   36     NaN  146050.97              2   \n",
       "53           655   Germany    Male   41     NaN  125561.97              1   \n",
       "60           742   Germany    Male   35     NaN  136857.00              1   \n",
       "82           543    France  Female   36     NaN       0.00              2   \n",
       "85           652     Spain  Female   75     NaN       0.00              2   \n",
       "94           730     Spain    Male   42     NaN       0.00              2   \n",
       "99           413    France    Male   34     NaN       0.00              2   \n",
       "111          538   Germany    Male   39     NaN  108055.10              2   \n",
       "\n",
       "     HasCrCard  IsActiveMember  EstimatedSalary  Exited  \n",
       "30           1               0        140469.38       1  \n",
       "48           0               1         90878.13       0  \n",
       "51           0               0         86424.57       0  \n",
       "53           0               0        164040.94       1  \n",
       "60           0               0         84509.57       0  \n",
       "82           0               0         26019.59       0  \n",
       "85           1               1        114675.75       0  \n",
       "94           0               1         85982.47       0  \n",
       "99           0               0          6534.18       0  \n",
       "111          1               0         27231.26       0  "
      ]
     },
     "execution_count": 5,
     "metadata": {},
     "output_type": "execute_result"
    }
   ],
   "source": [
    "# посмотрим наблюдения с пустыми значениями в столбце 'Tenure'\n",
    "df[df['Tenure'].isnull()].head(10)"
   ]
  },
  {
   "cell_type": "markdown",
   "metadata": {},
   "source": [
    "Пропуски обнаружены лишь в столбце Tenure. Учитывая, что пользователи, для которых не заполнен признак о том, сколько лет он является клиентом банка, могут быть активными пользователями (IsActiveMember=1), иметь кредитные карты (HasCrCard=1) и пользоваться другими продуктами банка (NumOfProducts>1), можно сделать вывод, что пропуски не являются преднамеренными. Поэтому мы заполним их медианными значениями в зависимости от возраста клиента."
   ]
  },
  {
   "cell_type": "code",
   "execution_count": 6,
   "metadata": {},
   "outputs": [],
   "source": [
    "# замена пропусков\n",
    "df['Tenure'] = df['Tenure'].fillna(df.groupby('Age')['Tenure'].transform('median'))"
   ]
  },
  {
   "cell_type": "code",
   "execution_count": 7,
   "metadata": {},
   "outputs": [
    {
     "data": {
      "text/plain": [
       "0"
      ]
     },
     "execution_count": 7,
     "metadata": {},
     "output_type": "execute_result"
    }
   ],
   "source": [
    "# проверим на наличие дубликатов\n",
    "df.duplicated().sum()"
   ]
  },
  {
   "cell_type": "code",
   "execution_count": 8,
   "metadata": {},
   "outputs": [],
   "source": [
    "# изменим тип данных тех признаков, что выражаются в деньгах\n",
    "df = df.astype({'EstimatedSalary': 'int64', 'Balance': \"int64\"})"
   ]
  },
  {
   "cell_type": "code",
   "execution_count": 9,
   "metadata": {},
   "outputs": [
    {
     "data": {
      "text/plain": [
       "(6000, 10)"
      ]
     },
     "metadata": {},
     "output_type": "display_data"
    },
    {
     "data": {
      "text/plain": [
       "(2000, 10)"
      ]
     },
     "metadata": {},
     "output_type": "display_data"
    },
    {
     "data": {
      "text/plain": [
       "(2000, 10)"
      ]
     },
     "execution_count": 9,
     "metadata": {},
     "output_type": "execute_result"
    }
   ],
   "source": [
    "# Выделим целевую переменную и признаки\n",
    "features = df.drop('Exited', axis=1)\n",
    "target = df['Exited']\n",
    "\n",
    "# Разделим исходную выборку на обучающую и валидационную, на обучающую выбоку выделим 60% выборки\n",
    "x_train, x_test, y_train, y_test = train_test_split(\n",
    "    features, target, test_size=0.4, random_state=12345)\n",
    "\n",
    "# Поделим тестовую выборку на 2 части, чтобы создать валидационную выборку\n",
    "x_test, x_valid, y_test, y_valid = train_test_split(\n",
    "    x_test, y_test, test_size=0.5, random_state=12345)\n",
    "\n",
    "# оценим размеры полученных выборок\n",
    "display(x_train.shape)\n",
    "display(x_test.shape)\n",
    "x_valid.shape"
   ]
  },
  {
   "cell_type": "code",
   "execution_count": 10,
   "metadata": {},
   "outputs": [],
   "source": [
    "# Создадим функцию для кодировки категориальных факторов методом OHE\n",
    "def onehot_preprocessing(df, columns, ohe, mode='train'):\n",
    "    \"\"\"df- dataframe передаем весь датасет и выбираем столбцы\"\"\"\n",
    "    if mode == 'train':\n",
    "        x_tr = ohe.fit_transform(df[columns]).toarray()\n",
    "    else:\n",
    "        x_tr = ohe.transform(df[columns]).toarray()\n",
    "    \n",
    "    x_tr = pd.DataFrame(x_tr, columns=ohe.get_feature_names())\n",
    "    x_res = pd.concat([df.drop(columns=columns).reset_index(), x_tr], axis=1)\n",
    "    \n",
    "    return x_res"
   ]
  },
  {
   "cell_type": "code",
   "execution_count": 11,
   "metadata": {},
   "outputs": [],
   "source": [
    "# Закодируем факторы 'Geography' и 'Gender' на всех 3-х выборках\n",
    "ohe = OneHotEncoder()\n",
    "x_train = onehot_preprocessing(x_train, ['Geography', 'Gender'], ohe)\n",
    "x_valid = onehot_preprocessing(x_valid, ['Geography', 'Gender'], ohe, mode='')\n",
    "x_test = onehot_preprocessing(x_test, ['Geography', 'Gender'], ohe, mode='')"
   ]
  },
  {
   "cell_type": "code",
   "execution_count": 12,
   "metadata": {},
   "outputs": [
    {
     "data": {
      "text/html": [
       "<div>\n",
       "<style scoped>\n",
       "    .dataframe tbody tr th:only-of-type {\n",
       "        vertical-align: middle;\n",
       "    }\n",
       "\n",
       "    .dataframe tbody tr th {\n",
       "        vertical-align: top;\n",
       "    }\n",
       "\n",
       "    .dataframe thead th {\n",
       "        text-align: right;\n",
       "    }\n",
       "</style>\n",
       "<table border=\"1\" class=\"dataframe\">\n",
       "  <thead>\n",
       "    <tr style=\"text-align: right;\">\n",
       "      <th></th>\n",
       "      <th>CreditScore</th>\n",
       "      <th>Age</th>\n",
       "      <th>Tenure</th>\n",
       "      <th>Balance</th>\n",
       "      <th>NumOfProducts</th>\n",
       "      <th>HasCrCard</th>\n",
       "      <th>IsActiveMember</th>\n",
       "      <th>EstimatedSalary</th>\n",
       "      <th>Exited</th>\n",
       "    </tr>\n",
       "  </thead>\n",
       "  <tbody>\n",
       "    <tr>\n",
       "      <th>count</th>\n",
       "      <td>10000.000000</td>\n",
       "      <td>10000.000000</td>\n",
       "      <td>10000.000000</td>\n",
       "      <td>10000.000000</td>\n",
       "      <td>10000.000000</td>\n",
       "      <td>10000.00000</td>\n",
       "      <td>10000.000000</td>\n",
       "      <td>10000.000000</td>\n",
       "      <td>10000.000000</td>\n",
       "    </tr>\n",
       "    <tr>\n",
       "      <th>mean</th>\n",
       "      <td>650.528800</td>\n",
       "      <td>38.921800</td>\n",
       "      <td>4.995800</td>\n",
       "      <td>76485.571500</td>\n",
       "      <td>1.530200</td>\n",
       "      <td>0.70550</td>\n",
       "      <td>0.515100</td>\n",
       "      <td>100089.748400</td>\n",
       "      <td>0.203700</td>\n",
       "    </tr>\n",
       "    <tr>\n",
       "      <th>std</th>\n",
       "      <td>96.653299</td>\n",
       "      <td>10.487806</td>\n",
       "      <td>2.762118</td>\n",
       "      <td>62397.185107</td>\n",
       "      <td>0.581654</td>\n",
       "      <td>0.45584</td>\n",
       "      <td>0.499797</td>\n",
       "      <td>57510.491042</td>\n",
       "      <td>0.402769</td>\n",
       "    </tr>\n",
       "    <tr>\n",
       "      <th>min</th>\n",
       "      <td>350.000000</td>\n",
       "      <td>18.000000</td>\n",
       "      <td>0.000000</td>\n",
       "      <td>0.000000</td>\n",
       "      <td>1.000000</td>\n",
       "      <td>0.00000</td>\n",
       "      <td>0.000000</td>\n",
       "      <td>11.000000</td>\n",
       "      <td>0.000000</td>\n",
       "    </tr>\n",
       "    <tr>\n",
       "      <th>25%</th>\n",
       "      <td>584.000000</td>\n",
       "      <td>32.000000</td>\n",
       "      <td>3.000000</td>\n",
       "      <td>0.000000</td>\n",
       "      <td>1.000000</td>\n",
       "      <td>0.00000</td>\n",
       "      <td>0.000000</td>\n",
       "      <td>51001.750000</td>\n",
       "      <td>0.000000</td>\n",
       "    </tr>\n",
       "    <tr>\n",
       "      <th>50%</th>\n",
       "      <td>652.000000</td>\n",
       "      <td>37.000000</td>\n",
       "      <td>5.000000</td>\n",
       "      <td>97198.000000</td>\n",
       "      <td>1.000000</td>\n",
       "      <td>1.00000</td>\n",
       "      <td>1.000000</td>\n",
       "      <td>100193.500000</td>\n",
       "      <td>0.000000</td>\n",
       "    </tr>\n",
       "    <tr>\n",
       "      <th>75%</th>\n",
       "      <td>718.000000</td>\n",
       "      <td>44.000000</td>\n",
       "      <td>7.000000</td>\n",
       "      <td>127643.750000</td>\n",
       "      <td>2.000000</td>\n",
       "      <td>1.00000</td>\n",
       "      <td>1.000000</td>\n",
       "      <td>149387.750000</td>\n",
       "      <td>0.000000</td>\n",
       "    </tr>\n",
       "    <tr>\n",
       "      <th>max</th>\n",
       "      <td>850.000000</td>\n",
       "      <td>92.000000</td>\n",
       "      <td>10.000000</td>\n",
       "      <td>250898.000000</td>\n",
       "      <td>4.000000</td>\n",
       "      <td>1.00000</td>\n",
       "      <td>1.000000</td>\n",
       "      <td>199992.000000</td>\n",
       "      <td>1.000000</td>\n",
       "    </tr>\n",
       "  </tbody>\n",
       "</table>\n",
       "</div>"
      ],
      "text/plain": [
       "        CreditScore           Age        Tenure        Balance  NumOfProducts  \\\n",
       "count  10000.000000  10000.000000  10000.000000   10000.000000   10000.000000   \n",
       "mean     650.528800     38.921800      4.995800   76485.571500       1.530200   \n",
       "std       96.653299     10.487806      2.762118   62397.185107       0.581654   \n",
       "min      350.000000     18.000000      0.000000       0.000000       1.000000   \n",
       "25%      584.000000     32.000000      3.000000       0.000000       1.000000   \n",
       "50%      652.000000     37.000000      5.000000   97198.000000       1.000000   \n",
       "75%      718.000000     44.000000      7.000000  127643.750000       2.000000   \n",
       "max      850.000000     92.000000     10.000000  250898.000000       4.000000   \n",
       "\n",
       "         HasCrCard  IsActiveMember  EstimatedSalary        Exited  \n",
       "count  10000.00000    10000.000000     10000.000000  10000.000000  \n",
       "mean       0.70550        0.515100    100089.748400      0.203700  \n",
       "std        0.45584        0.499797     57510.491042      0.402769  \n",
       "min        0.00000        0.000000        11.000000      0.000000  \n",
       "25%        0.00000        0.000000     51001.750000      0.000000  \n",
       "50%        1.00000        1.000000    100193.500000      0.000000  \n",
       "75%        1.00000        1.000000    149387.750000      0.000000  \n",
       "max        1.00000        1.000000    199992.000000      1.000000  "
      ]
     },
     "execution_count": 12,
     "metadata": {},
     "output_type": "execute_result"
    }
   ],
   "source": [
    "# оценим разброс значений признаков\n",
    "df.describe()"
   ]
  },
  {
   "cell_type": "code",
   "execution_count": 13,
   "metadata": {},
   "outputs": [],
   "source": [
    "# стандартизируем признаки, чтобы признаки, выраженные в деньгах, не получили бОльший вес в модели\n",
    "col = ['CreditScore', 'Age', 'Tenure', 'Balance']\n",
    "scaler = StandardScaler()\n",
    "\n",
    "x_train[col] = scaler.fit_transform(x_train[col])\n",
    "x_valid[col] = scaler.transform(x_valid[col])\n",
    "x_test[col] = scaler.transform(x_test[col])"
   ]
  },
  {
   "cell_type": "markdown",
   "metadata": {},
   "source": [
    "## Исследование задачи"
   ]
  },
  {
   "cell_type": "markdown",
   "metadata": {},
   "source": [
    "Перед нами стоит задача классификации. В качестве таргета будет выступать переменная 'Exited'.\n",
    "Исследуем баланс классов."
   ]
  },
  {
   "cell_type": "code",
   "execution_count": 14,
   "metadata": {},
   "outputs": [
    {
     "data": {
      "text/plain": [
       "0    7963\n",
       "1    2037\n",
       "Name: Exited, dtype: int64"
      ]
     },
     "execution_count": 14,
     "metadata": {},
     "output_type": "execute_result"
    }
   ],
   "source": [
    "# оценим распределение переменной Exited\n",
    "df['Exited'].value_counts()"
   ]
  },
  {
   "cell_type": "markdown",
   "metadata": {},
   "source": [
    "Выборка явно не сбалансирована - тех, что кто ушел из банка, почти в 4 раза меньше чем общее количество текущих клиентов"
   ]
  },
  {
   "cell_type": "code",
   "execution_count": 15,
   "metadata": {},
   "outputs": [
    {
     "data": {
      "text/html": [
       "<div>\n",
       "<style scoped>\n",
       "    .dataframe tbody tr th:only-of-type {\n",
       "        vertical-align: middle;\n",
       "    }\n",
       "\n",
       "    .dataframe tbody tr th {\n",
       "        vertical-align: top;\n",
       "    }\n",
       "\n",
       "    .dataframe thead th {\n",
       "        text-align: right;\n",
       "    }\n",
       "</style>\n",
       "<table border=\"1\" class=\"dataframe\">\n",
       "  <thead>\n",
       "    <tr style=\"text-align: right;\">\n",
       "      <th></th>\n",
       "      <th>index</th>\n",
       "      <th>CreditScore</th>\n",
       "      <th>Age</th>\n",
       "      <th>Tenure</th>\n",
       "      <th>Balance</th>\n",
       "      <th>NumOfProducts</th>\n",
       "      <th>HasCrCard</th>\n",
       "      <th>IsActiveMember</th>\n",
       "      <th>EstimatedSalary</th>\n",
       "      <th>x0_France</th>\n",
       "      <th>x0_Germany</th>\n",
       "      <th>x0_Spain</th>\n",
       "      <th>x1_Female</th>\n",
       "      <th>x1_Male</th>\n",
       "    </tr>\n",
       "  </thead>\n",
       "  <tbody>\n",
       "    <tr>\n",
       "      <th>index</th>\n",
       "      <td>1.000000</td>\n",
       "      <td>0.007851</td>\n",
       "      <td>-0.010482</td>\n",
       "      <td>-0.001973</td>\n",
       "      <td>-0.010269</td>\n",
       "      <td>-0.001393</td>\n",
       "      <td>0.009845</td>\n",
       "      <td>0.014714</td>\n",
       "      <td>-0.000239</td>\n",
       "      <td>0.017591</td>\n",
       "      <td>-0.003094</td>\n",
       "      <td>-0.017215</td>\n",
       "      <td>-0.015112</td>\n",
       "      <td>0.015112</td>\n",
       "    </tr>\n",
       "    <tr>\n",
       "      <th>CreditScore</th>\n",
       "      <td>0.007851</td>\n",
       "      <td>1.000000</td>\n",
       "      <td>-0.013542</td>\n",
       "      <td>0.000036</td>\n",
       "      <td>0.010169</td>\n",
       "      <td>0.012745</td>\n",
       "      <td>-0.010165</td>\n",
       "      <td>0.022480</td>\n",
       "      <td>0.001702</td>\n",
       "      <td>-0.001175</td>\n",
       "      <td>0.003270</td>\n",
       "      <td>-0.001898</td>\n",
       "      <td>-0.002881</td>\n",
       "      <td>0.002881</td>\n",
       "    </tr>\n",
       "    <tr>\n",
       "      <th>Age</th>\n",
       "      <td>-0.010482</td>\n",
       "      <td>-0.013542</td>\n",
       "      <td>1.000000</td>\n",
       "      <td>-0.027636</td>\n",
       "      <td>0.029278</td>\n",
       "      <td>-0.033108</td>\n",
       "      <td>-0.000300</td>\n",
       "      <td>0.093706</td>\n",
       "      <td>-0.006184</td>\n",
       "      <td>-0.045237</td>\n",
       "      <td>0.044103</td>\n",
       "      <td>0.008313</td>\n",
       "      <td>0.027948</td>\n",
       "      <td>-0.027948</td>\n",
       "    </tr>\n",
       "    <tr>\n",
       "      <th>Tenure</th>\n",
       "      <td>-0.001973</td>\n",
       "      <td>0.000036</td>\n",
       "      <td>-0.027636</td>\n",
       "      <td>1.000000</td>\n",
       "      <td>-0.014801</td>\n",
       "      <td>0.011637</td>\n",
       "      <td>0.029588</td>\n",
       "      <td>-0.026949</td>\n",
       "      <td>0.003925</td>\n",
       "      <td>0.008108</td>\n",
       "      <td>-0.005819</td>\n",
       "      <td>-0.003564</td>\n",
       "      <td>-0.012513</td>\n",
       "      <td>0.012513</td>\n",
       "    </tr>\n",
       "    <tr>\n",
       "      <th>Balance</th>\n",
       "      <td>-0.010269</td>\n",
       "      <td>0.010169</td>\n",
       "      <td>0.029278</td>\n",
       "      <td>-0.014801</td>\n",
       "      <td>1.000000</td>\n",
       "      <td>-0.307142</td>\n",
       "      <td>-0.021450</td>\n",
       "      <td>-0.032714</td>\n",
       "      <td>0.021291</td>\n",
       "      <td>-0.233750</td>\n",
       "      <td>0.396732</td>\n",
       "      <td>-0.125023</td>\n",
       "      <td>-0.005972</td>\n",
       "      <td>0.005972</td>\n",
       "    </tr>\n",
       "    <tr>\n",
       "      <th>NumOfProducts</th>\n",
       "      <td>-0.001393</td>\n",
       "      <td>0.012745</td>\n",
       "      <td>-0.033108</td>\n",
       "      <td>0.011637</td>\n",
       "      <td>-0.307142</td>\n",
       "      <td>1.000000</td>\n",
       "      <td>-0.002674</td>\n",
       "      <td>0.026512</td>\n",
       "      <td>0.008146</td>\n",
       "      <td>0.011899</td>\n",
       "      <td>-0.013251</td>\n",
       "      <td>-0.000544</td>\n",
       "      <td>0.022021</td>\n",
       "      <td>-0.022021</td>\n",
       "    </tr>\n",
       "    <tr>\n",
       "      <th>HasCrCard</th>\n",
       "      <td>0.009845</td>\n",
       "      <td>-0.010165</td>\n",
       "      <td>-0.000300</td>\n",
       "      <td>0.029588</td>\n",
       "      <td>-0.021450</td>\n",
       "      <td>-0.002674</td>\n",
       "      <td>1.000000</td>\n",
       "      <td>-0.019424</td>\n",
       "      <td>-0.018114</td>\n",
       "      <td>-0.013280</td>\n",
       "      <td>0.016744</td>\n",
       "      <td>-0.001337</td>\n",
       "      <td>0.004772</td>\n",
       "      <td>-0.004772</td>\n",
       "    </tr>\n",
       "    <tr>\n",
       "      <th>IsActiveMember</th>\n",
       "      <td>0.014714</td>\n",
       "      <td>0.022480</td>\n",
       "      <td>0.093706</td>\n",
       "      <td>-0.026949</td>\n",
       "      <td>-0.032714</td>\n",
       "      <td>0.026512</td>\n",
       "      <td>-0.019424</td>\n",
       "      <td>1.000000</td>\n",
       "      <td>-0.010344</td>\n",
       "      <td>-0.000269</td>\n",
       "      <td>-0.030380</td>\n",
       "      <td>0.030534</td>\n",
       "      <td>-0.028302</td>\n",
       "      <td>0.028302</td>\n",
       "    </tr>\n",
       "    <tr>\n",
       "      <th>EstimatedSalary</th>\n",
       "      <td>-0.000239</td>\n",
       "      <td>0.001702</td>\n",
       "      <td>-0.006184</td>\n",
       "      <td>0.003925</td>\n",
       "      <td>0.021291</td>\n",
       "      <td>0.008146</td>\n",
       "      <td>-0.018114</td>\n",
       "      <td>-0.010344</td>\n",
       "      <td>1.000000</td>\n",
       "      <td>-0.018350</td>\n",
       "      <td>0.019144</td>\n",
       "      <td>0.002124</td>\n",
       "      <td>0.010491</td>\n",
       "      <td>-0.010491</td>\n",
       "    </tr>\n",
       "    <tr>\n",
       "      <th>x0_France</th>\n",
       "      <td>0.017591</td>\n",
       "      <td>-0.001175</td>\n",
       "      <td>-0.045237</td>\n",
       "      <td>0.008108</td>\n",
       "      <td>-0.233750</td>\n",
       "      <td>0.011899</td>\n",
       "      <td>-0.013280</td>\n",
       "      <td>-0.000269</td>\n",
       "      <td>-0.018350</td>\n",
       "      <td>1.000000</td>\n",
       "      <td>-0.575344</td>\n",
       "      <td>-0.581276</td>\n",
       "      <td>-0.020278</td>\n",
       "      <td>0.020278</td>\n",
       "    </tr>\n",
       "    <tr>\n",
       "      <th>x0_Germany</th>\n",
       "      <td>-0.003094</td>\n",
       "      <td>0.003270</td>\n",
       "      <td>0.044103</td>\n",
       "      <td>-0.005819</td>\n",
       "      <td>0.396732</td>\n",
       "      <td>-0.013251</td>\n",
       "      <td>0.016744</td>\n",
       "      <td>-0.030380</td>\n",
       "      <td>0.019144</td>\n",
       "      <td>-0.575344</td>\n",
       "      <td>1.000000</td>\n",
       "      <td>-0.331106</td>\n",
       "      <td>0.042200</td>\n",
       "      <td>-0.042200</td>\n",
       "    </tr>\n",
       "    <tr>\n",
       "      <th>x0_Spain</th>\n",
       "      <td>-0.017215</td>\n",
       "      <td>-0.001898</td>\n",
       "      <td>0.008313</td>\n",
       "      <td>-0.003564</td>\n",
       "      <td>-0.125023</td>\n",
       "      <td>-0.000544</td>\n",
       "      <td>-0.001337</td>\n",
       "      <td>0.030534</td>\n",
       "      <td>0.002124</td>\n",
       "      <td>-0.581276</td>\n",
       "      <td>-0.331106</td>\n",
       "      <td>1.000000</td>\n",
       "      <td>-0.018590</td>\n",
       "      <td>0.018590</td>\n",
       "    </tr>\n",
       "    <tr>\n",
       "      <th>x1_Female</th>\n",
       "      <td>-0.015112</td>\n",
       "      <td>-0.002881</td>\n",
       "      <td>0.027948</td>\n",
       "      <td>-0.012513</td>\n",
       "      <td>-0.005972</td>\n",
       "      <td>0.022021</td>\n",
       "      <td>0.004772</td>\n",
       "      <td>-0.028302</td>\n",
       "      <td>0.010491</td>\n",
       "      <td>-0.020278</td>\n",
       "      <td>0.042200</td>\n",
       "      <td>-0.018590</td>\n",
       "      <td>1.000000</td>\n",
       "      <td>-1.000000</td>\n",
       "    </tr>\n",
       "    <tr>\n",
       "      <th>x1_Male</th>\n",
       "      <td>0.015112</td>\n",
       "      <td>0.002881</td>\n",
       "      <td>-0.027948</td>\n",
       "      <td>0.012513</td>\n",
       "      <td>0.005972</td>\n",
       "      <td>-0.022021</td>\n",
       "      <td>-0.004772</td>\n",
       "      <td>0.028302</td>\n",
       "      <td>-0.010491</td>\n",
       "      <td>0.020278</td>\n",
       "      <td>-0.042200</td>\n",
       "      <td>0.018590</td>\n",
       "      <td>-1.000000</td>\n",
       "      <td>1.000000</td>\n",
       "    </tr>\n",
       "  </tbody>\n",
       "</table>\n",
       "</div>"
      ],
      "text/plain": [
       "                    index  CreditScore       Age    Tenure   Balance  \\\n",
       "index            1.000000     0.007851 -0.010482 -0.001973 -0.010269   \n",
       "CreditScore      0.007851     1.000000 -0.013542  0.000036  0.010169   \n",
       "Age             -0.010482    -0.013542  1.000000 -0.027636  0.029278   \n",
       "Tenure          -0.001973     0.000036 -0.027636  1.000000 -0.014801   \n",
       "Balance         -0.010269     0.010169  0.029278 -0.014801  1.000000   \n",
       "NumOfProducts   -0.001393     0.012745 -0.033108  0.011637 -0.307142   \n",
       "HasCrCard        0.009845    -0.010165 -0.000300  0.029588 -0.021450   \n",
       "IsActiveMember   0.014714     0.022480  0.093706 -0.026949 -0.032714   \n",
       "EstimatedSalary -0.000239     0.001702 -0.006184  0.003925  0.021291   \n",
       "x0_France        0.017591    -0.001175 -0.045237  0.008108 -0.233750   \n",
       "x0_Germany      -0.003094     0.003270  0.044103 -0.005819  0.396732   \n",
       "x0_Spain        -0.017215    -0.001898  0.008313 -0.003564 -0.125023   \n",
       "x1_Female       -0.015112    -0.002881  0.027948 -0.012513 -0.005972   \n",
       "x1_Male          0.015112     0.002881 -0.027948  0.012513  0.005972   \n",
       "\n",
       "                 NumOfProducts  HasCrCard  IsActiveMember  EstimatedSalary  \\\n",
       "index                -0.001393   0.009845        0.014714        -0.000239   \n",
       "CreditScore           0.012745  -0.010165        0.022480         0.001702   \n",
       "Age                  -0.033108  -0.000300        0.093706        -0.006184   \n",
       "Tenure                0.011637   0.029588       -0.026949         0.003925   \n",
       "Balance              -0.307142  -0.021450       -0.032714         0.021291   \n",
       "NumOfProducts         1.000000  -0.002674        0.026512         0.008146   \n",
       "HasCrCard            -0.002674   1.000000       -0.019424        -0.018114   \n",
       "IsActiveMember        0.026512  -0.019424        1.000000        -0.010344   \n",
       "EstimatedSalary       0.008146  -0.018114       -0.010344         1.000000   \n",
       "x0_France             0.011899  -0.013280       -0.000269        -0.018350   \n",
       "x0_Germany           -0.013251   0.016744       -0.030380         0.019144   \n",
       "x0_Spain             -0.000544  -0.001337        0.030534         0.002124   \n",
       "x1_Female             0.022021   0.004772       -0.028302         0.010491   \n",
       "x1_Male              -0.022021  -0.004772        0.028302        -0.010491   \n",
       "\n",
       "                 x0_France  x0_Germany  x0_Spain  x1_Female   x1_Male  \n",
       "index             0.017591   -0.003094 -0.017215  -0.015112  0.015112  \n",
       "CreditScore      -0.001175    0.003270 -0.001898  -0.002881  0.002881  \n",
       "Age              -0.045237    0.044103  0.008313   0.027948 -0.027948  \n",
       "Tenure            0.008108   -0.005819 -0.003564  -0.012513  0.012513  \n",
       "Balance          -0.233750    0.396732 -0.125023  -0.005972  0.005972  \n",
       "NumOfProducts     0.011899   -0.013251 -0.000544   0.022021 -0.022021  \n",
       "HasCrCard        -0.013280    0.016744 -0.001337   0.004772 -0.004772  \n",
       "IsActiveMember   -0.000269   -0.030380  0.030534  -0.028302  0.028302  \n",
       "EstimatedSalary  -0.018350    0.019144  0.002124   0.010491 -0.010491  \n",
       "x0_France         1.000000   -0.575344 -0.581276  -0.020278  0.020278  \n",
       "x0_Germany       -0.575344    1.000000 -0.331106   0.042200 -0.042200  \n",
       "x0_Spain         -0.581276   -0.331106  1.000000  -0.018590  0.018590  \n",
       "x1_Female        -0.020278    0.042200 -0.018590   1.000000 -1.000000  \n",
       "x1_Male           0.020278   -0.042200  0.018590  -1.000000  1.000000  "
      ]
     },
     "execution_count": 15,
     "metadata": {},
     "output_type": "execute_result"
    }
   ],
   "source": [
    "# оценим уровни корреляции между всеми признаками\n",
    "x_train.corr()"
   ]
  },
  {
   "cell_type": "markdown",
   "metadata": {},
   "source": [
    "Самый высокий уровень корреляции: 1)между признаками \"количество продуктов\" и \"балансом\", однако было решено оставить оба признака, так как они могут по-разному объяснять целевую переменную 2)между объемом средств на балансе и страной=Германия, однако это, скорее, говорит об уровне благосостояния в Германии "
   ]
  },
  {
   "cell_type": "markdown",
   "metadata": {},
   "source": [
    "Для начала построим 3 модели на обучающей выборке и подберем гиперпараменты на валидационной выборке без учета дисбаланса классов"
   ]
  },
  {
   "cell_type": "code",
   "execution_count": 1,
   "metadata": {},
   "outputs": [],
   "source": [
    "def find_best_model(x_train, y_train, x_valid, y_valid, model, params):\n",
    "    \"\"\"\n",
    "    Функция для поиска лучших гиперпараметров для заданной модели на основе GridSearchCV.\n",
    "    Возвращает лучшую модель и соответствующий ей f1-score на валидационной выборке.\n",
    "    \"\"\"\n",
    "    grid_search = GridSearchCV(model, params, cv=5, scoring='f1')\n",
    "    grid_search.fit(x_train, y_train)\n",
    "\n",
    "    # Вывод лучших гиперпараметров и f1-score\n",
    "    best_params = grid_search.best_params_\n",
    "    best_model = grid_search.best_estimator_\n",
    "    best_f1_score = grid_search.best_score_\n",
    "    print('Best hyperparameters:', best_params)\n",
    "    print('Best F1 score:', '{:.2f}'.format(best_f1_score))\n",
    "\n",
    "    # Оценка лучшей модели на валидационной выборке\n",
    "    predictions = best_model.predict(x_valid)\n",
    "    best_f1_score_val = f1_score(y_valid, predictions)\n",
    "    print('Validation set F1 score:', '{:.2f}'.format(best_f1_score_val))\n",
    "    \n",
    "    return best_model, best_f1_score_val"
   ]
  },
  {
   "cell_type": "code",
   "execution_count": 18,
   "metadata": {},
   "outputs": [
    {
     "name": "stdout",
     "output_type": "stream",
     "text": [
      "Best hyperparameters: {'max_depth': 7}\n",
      "Best F1 score: 0.56\n",
      "Validation set F1 score: 0.50\n"
     ]
    }
   ],
   "source": [
    "# Поиск лучших параметров для модели Decision Tree Classifier\n",
    "params = {'max_depth': range(3, 50)}\n",
    "\n",
    "dt = DecisionTreeClassifier(random_state=12345)\n",
    "\n",
    "best_model, best_f1_score = find_best_model(x_train, y_train, x_valid, y_valid, dt, params)"
   ]
  },
  {
   "cell_type": "code",
   "execution_count": 19,
   "metadata": {},
   "outputs": [
    {
     "name": "stdout",
     "output_type": "stream",
     "text": [
      "Best hyperparameters: {'max_iter': 100, 'solver': 'liblinear'}\n",
      "Best F1 score: 0.00\n",
      "Validation set F1 score: 0.00\n"
     ]
    }
   ],
   "source": [
    "# Поиск лучших параметров для логистической регресии\n",
    "params = {'solver': ['liblinear', 'lbfgs'], 'max_iter': range(100, 2000, 10)}\n",
    "\n",
    "lr = LogisticRegression(random_state=12345)\n",
    "\n",
    "best_model, best_f1_score = find_best_model(x_train, y_train, x_valid, y_valid, lr, params)"
   ]
  },
  {
   "cell_type": "code",
   "execution_count": 20,
   "metadata": {},
   "outputs": [
    {
     "name": "stdout",
     "output_type": "stream",
     "text": [
      "Best hyperparameters: {'max_depth': 19, 'n_estimators': 100}\n",
      "Best F1 score: 0.57\n",
      "Validation set F1 score: 0.51\n"
     ]
    }
   ],
   "source": [
    "# Поиск лучших параметров для модели случайного леса\n",
    "params = {'n_estimators': [50, 100, 150],'max_depth': range(3, 50)}\n",
    "\n",
    "rf = RandomForestClassifier(random_state=12345)\n",
    "\n",
    "best_model, best_f1_score = find_best_model(x_train, y_train, x_valid, y_valid, rf, params)"
   ]
  },
  {
   "cell_type": "markdown",
   "metadata": {},
   "source": [
    "После подбора гиперпараметров выберем модель с наибольшим f-score. Проверять эффективность модели будет на тестовой выборке"
   ]
  },
  {
   "cell_type": "code",
   "execution_count": 24,
   "metadata": {},
   "outputs": [],
   "source": [
    "# Лучшие модели на валидационном датасете\n",
    "model_1 = DecisionTreeClassifier(max_depth=7, random_state=12345)\n",
    "model_2 = RandomForestClassifier(max_depth=19, n_estimators= 100, random_state=12345)"
   ]
  },
  {
   "cell_type": "code",
   "execution_count": 25,
   "metadata": {},
   "outputs": [],
   "source": [
    "# функция для тестирования модели на тестовой выборке\n",
    "def model_test(x_train, y_train, x_test, y_test, model):\n",
    "    model.fit(x_train, y_train)\n",
    "    predictions = model.predict(x_test)\n",
    "    print(\"F1-score:\", '{:.2f}'.format(f1_score(y_test, predictions)))\n",
    "    \n",
    "    probabilities_test = model.predict_proba(x_test)\n",
    "    probabilities_one_valid = probabilities_test[:, 1]\n",
    "    print(\"AUC-ROC:\", '{:.2f}'.format(roc_auc_score(y_test, probabilities_one_valid)))"
   ]
  },
  {
   "cell_type": "code",
   "execution_count": 26,
   "metadata": {},
   "outputs": [
    {
     "name": "stdout",
     "output_type": "stream",
     "text": [
      "F1-score: 0.55\n",
      "AUC-ROC: 0.81\n"
     ]
    }
   ],
   "source": [
    "# тестирование модели Decision Tree Classifier\n",
    "model_test(x_train, y_train, x_test, y_test, model_1)"
   ]
  },
  {
   "cell_type": "code",
   "execution_count": 27,
   "metadata": {},
   "outputs": [
    {
     "name": "stdout",
     "output_type": "stream",
     "text": [
      "F1-score: 0.56\n",
      "AUC-ROC: 0.84\n"
     ]
    }
   ],
   "source": [
    "# тестирование модели Random Forest Classifier\n",
    "model_test(x_train, y_train, x_test, y_test, model_2)"
   ]
  },
  {
   "cell_type": "markdown",
   "metadata": {},
   "source": [
    "Лучшей моделью на тестовой выборке оказалась модель случайного леса, поскольку у нее самый высокий показатель f1-меры (0.56)"
   ]
  },
  {
   "cell_type": "markdown",
   "metadata": {},
   "source": [
    "## Борьба с дисбалансом"
   ]
  },
  {
   "cell_type": "markdown",
   "metadata": {},
   "source": [
    "Построим модели с учетом дисбаланса классов. Для этого используем разные подходы"
   ]
  },
  {
   "cell_type": "code",
   "execution_count": 31,
   "metadata": {},
   "outputs": [
    {
     "name": "stdout",
     "output_type": "stream",
     "text": [
      "0.48484848484848475 LogisticRegression(class_weight='balanced', random_state=12345,\n",
      "                   solver='liblinear')\n"
     ]
    }
   ],
   "source": [
    "# построение логистической регрессии с учетом дисбаланса класса\n",
    "best_model = None\n",
    "best_result = 0\n",
    "for iter in range(100, 2000):\n",
    "    model = LogisticRegression(\n",
    "        random_state=12345, solver='liblinear', max_iter=iter, class_weight='balanced')\n",
    "    model.fit(x_train, y_train)\n",
    "    predictions = model.predict(x_valid)\n",
    "    result = f1_score(y_valid, predictions)\n",
    "    if result > best_result:\n",
    "        best_model = model\n",
    "        best_result = result\n",
    "        \n",
    "print(best_result, best_model)"
   ]
  },
  {
   "cell_type": "markdown",
   "metadata": {},
   "source": [
    "Балансировка классов улучшила показатель f1-score с 0 до 0.48"
   ]
  },
  {
   "cell_type": "code",
   "execution_count": 32,
   "metadata": {},
   "outputs": [],
   "source": [
    "# функция для балансировки классов при помощи техники upsample\n",
    "def upsample(features, target, repeat):\n",
    "    features_zeros = features[target == 0].reset_index(drop=True)\n",
    "    features_ones = features[target == 1].reset_index(drop=True)\n",
    "    target_zeros = target[target == 0].reset_index(drop=True)\n",
    "    target_ones = target[target == 1].reset_index(drop=True)\n",
    "\n",
    "    features_upsampled = pd.concat([features_zeros] + [features_ones] * repeat)\n",
    "    target_upsampled = pd.concat([target_zeros] + [target_ones] * repeat)\n",
    "    \n",
    "    features_upsampled, target_upsampled = shuffle(\n",
    "        features_upsampled, target_upsampled, random_state=12345)\n",
    "    \n",
    "    return features_upsampled, target_upsampled\n",
    "\n",
    "x_train.reset_index(drop=True, inplace=True)\n",
    "y_train.reset_index(drop=True, inplace=True)\n",
    "features_upsampled, target_upsampled = upsample(x_train, y_train, 4)"
   ]
  },
  {
   "cell_type": "code",
   "execution_count": 33,
   "metadata": {},
   "outputs": [],
   "source": [
    "# функция для балансировки классов при помощи техники upsample\n",
    "def downsample(features, target, fraction):\n",
    "    features_zeros = features[target == 0]\n",
    "    features_ones = features[target == 1]\n",
    "    target_zeros = target[target == 0]\n",
    "    target_ones = target[target == 1]\n",
    "\n",
    "    features_downsampled = pd.concat(\n",
    "        [features_zeros.sample(frac=fraction, random_state=12345)] + [features_ones])\n",
    "    target_downsampled = pd.concat(\n",
    "        [target_zeros.sample(frac=fraction, random_state=12345)] + [target_ones])\n",
    "    \n",
    "    features_downsampled, target_downsampled = shuffle(\n",
    "        features_downsampled, target_downsampled, random_state=12345)\n",
    "    \n",
    "    return features_downsampled, target_downsampled\n",
    "\n",
    "features_downsampled, target_downsampled = downsample(x_train, y_train, 0.25)"
   ]
  },
  {
   "cell_type": "code",
   "execution_count": 35,
   "metadata": {},
   "outputs": [
    {
     "name": "stdout",
     "output_type": "stream",
     "text": [
      "Best hyperparameters: {'max_depth': 22}\n",
      "Best F1 score: 0.93\n",
      "Validation set F1 score: 0.45\n",
      "Best hyperparameters: {'max_depth': 6}\n",
      "Best F1 score: 0.74\n",
      "Validation set F1 score: 0.59\n"
     ]
    }
   ],
   "source": [
    "# Поиск лучших параметров для модели Decision Tree Classifier\n",
    "params = {'max_depth': range(3, 50)}\n",
    "\n",
    "dt = DecisionTreeClassifier(random_state=12345)\n",
    "\n",
    "best_model, best_f1_score = find_best_model(features_upsampled, target_upsampled, x_valid, y_valid, dt, params)\n",
    "best_model, best_f1_score = find_best_model(features_downsampled, target_downsampled, x_valid, y_valid, dt, params)"
   ]
  },
  {
   "cell_type": "markdown",
   "metadata": {},
   "source": [
    "Балансировка классов на основе техники upsample улучшила f1-score с 0.56 до 0.93 на тренировочной выборке и ухудшила с 0.50 до 0.45 - на валидационной.  \n",
    "Балансировка классов на основе техники downsample улучшила f1-score с 0.56 до 0.74 на тренировочной выборке и с 0.50 до 0.59 - на валидационной.  \n",
    "*Поскольку выбор лучшей модели и техники балансировки мы будем делать, исходя из результатов валидационной выборки, тестировать на тестовой выборке будем модель с параметрами {'max_depth': 6}, которая строилась на выборке, сбалансированной при помощи техники downsample*"
   ]
  },
  {
   "cell_type": "code",
   "execution_count": 36,
   "metadata": {},
   "outputs": [
    {
     "name": "stdout",
     "output_type": "stream",
     "text": [
      "Best hyperparameters: {'max_depth': 21, 'n_estimators': 100}\n",
      "Best F1 score: 0.96\n",
      "Validation set F1 score: 0.59\n",
      "Best hyperparameters: {'max_depth': 6, 'n_estimators': 150}\n",
      "Best F1 score: 0.77\n",
      "Validation set F1 score: 0.57\n"
     ]
    }
   ],
   "source": [
    "# Поиск лучших параметров для модели случайного леса\n",
    "params = {'n_estimators': [50, 100, 150],'max_depth': range(3, 50)}\n",
    "\n",
    "rf = RandomForestClassifier(random_state=12345)\n",
    "\n",
    "best_model, best_f1_score = find_best_model(features_upsampled, target_upsampled, x_valid, y_valid, rf, params)\n",
    "best_model, best_f1_score = find_best_model(features_downsampled, target_downsampled, x_valid, y_valid, rf, params)"
   ]
  },
  {
   "cell_type": "markdown",
   "metadata": {},
   "source": [
    "Балансировка классов на основе техники upsample улучшила f1-score с 0.57 до 0.96 на тренировочной выборке и с 0.51 до 0.59 - на валидационной.  \n",
    "Балансировка классов на основе техники downsample улучшила f1-score с 0.57 до 0.77 на тренировочной выборке и с 0.51 до 0.57 - на валидационной.  \n",
    "*Поскольку выбор лучшей модели и техники балансировки мы будем делать, исходя из результатов валидационной выборки, тестировать будем модель с гиперпараметрами {'max_depth': 21, 'n_estimators': 100}, которая строилась на выборке, сбалансированной при помощи техники upsample*"
   ]
  },
  {
   "cell_type": "markdown",
   "metadata": {},
   "source": [
    "## Тестирование модели"
   ]
  },
  {
   "cell_type": "code",
   "execution_count": 37,
   "metadata": {},
   "outputs": [],
   "source": [
    "# лучшие модели на тестовой выборке\n",
    "model_dt_bal = DecisionTreeClassifier(max_depth=6, random_state=12345)\n",
    "model_rf_bal = RandomForestClassifier(max_depth=21, n_estimators= 100, random_state=12345)"
   ]
  },
  {
   "cell_type": "code",
   "execution_count": 38,
   "metadata": {},
   "outputs": [
    {
     "name": "stdout",
     "output_type": "stream",
     "text": [
      "F1-score: 0.58\n",
      "AUC-ROC: 0.83\n"
     ]
    }
   ],
   "source": [
    "# тестирование модели Decision Tree Classifier\n",
    "model_test(features_downsampled, target_downsampled, x_test, y_test, model_dt_bal)"
   ]
  },
  {
   "cell_type": "code",
   "execution_count": 39,
   "metadata": {},
   "outputs": [
    {
     "name": "stdout",
     "output_type": "stream",
     "text": [
      "F1-score: 0.61\n",
      "AUC-ROC: 0.83\n"
     ]
    }
   ],
   "source": [
    "# тестирование модели Random Forest Classifier\n",
    "model_test(features_upsampled, target_upsampled, x_test, y_test, model_rf_bal)"
   ]
  },
  {
   "cell_type": "markdown",
   "metadata": {},
   "source": [
    "Наилучшая модель - модель случайного леса, с учетом балансировки классов с помощью техники upsample значение F1-меры достигло 0.61 и AUC-ROC - 0.83 на тестовой выборке. "
   ]
  },
  {
   "cell_type": "markdown",
   "metadata": {},
   "source": [
    "## Вывод"
   ]
  },
  {
   "cell_type": "markdown",
   "metadata": {},
   "source": [
    "Для целей прогнозирования уйдет клиент из банка или нет было построено несколько моделей без учета того, что выборки не сбалансированы (в исторических данных, на которых модель обучалась, тех, кто ушел в 4 раза меньше), а также - с учетом. Балансировка классов позволила значительно улучшить качество всех моделей. Наиболее эффективно ранжирующей моделью по результатам тестирования была выбрана модель случайного леса, которая обучалась на выборке, сбалансированной при помощи техники upsample. Ее значение F1-меры  достигло 0.61 и AUC-ROC - 0.83 на тестовой выборке. "
   ]
  }
 ],
 "metadata": {
  "ExecuteTimeLog": [
   {
    "duration": 418,
    "start_time": "2022-10-16T19:42:12.829Z"
   },
   {
    "duration": 207,
    "start_time": "2022-10-16T19:43:46.758Z"
   },
   {
    "duration": 63,
    "start_time": "2022-10-16T19:47:31.000Z"
   },
   {
    "duration": 28,
    "start_time": "2022-10-16T19:47:46.530Z"
   },
   {
    "duration": 15,
    "start_time": "2022-10-16T19:52:51.200Z"
   },
   {
    "duration": 5,
    "start_time": "2022-10-16T19:54:48.789Z"
   },
   {
    "duration": 544,
    "start_time": "2022-10-16T19:55:01.273Z"
   },
   {
    "duration": 1194,
    "start_time": "2022-10-16T19:56:26.286Z"
   },
   {
    "duration": 9,
    "start_time": "2022-10-16T19:56:43.442Z"
   },
   {
    "duration": 24,
    "start_time": "2022-10-16T19:57:34.413Z"
   },
   {
    "duration": 77,
    "start_time": "2022-10-16T19:58:13.417Z"
   },
   {
    "duration": 337,
    "start_time": "2022-10-22T22:04:28.161Z"
   },
   {
    "duration": 193,
    "start_time": "2022-10-22T22:04:28.500Z"
   },
   {
    "duration": 17,
    "start_time": "2022-10-22T22:04:28.695Z"
   },
   {
    "duration": 63,
    "start_time": "2022-10-22T22:04:28.714Z"
   },
   {
    "duration": 6,
    "start_time": "2022-10-22T22:07:18.177Z"
   },
   {
    "duration": 11,
    "start_time": "2022-10-22T22:07:24.219Z"
   },
   {
    "duration": 324,
    "start_time": "2022-11-01T19:25:05.934Z"
   },
   {
    "duration": 386,
    "start_time": "2022-11-01T19:25:06.260Z"
   },
   {
    "duration": 14,
    "start_time": "2022-11-01T19:25:06.647Z"
   },
   {
    "duration": 10,
    "start_time": "2022-11-01T19:25:06.662Z"
   },
   {
    "duration": 31,
    "start_time": "2022-11-01T19:25:06.674Z"
   },
   {
    "duration": 4,
    "start_time": "2022-11-01T19:29:43.547Z"
   },
   {
    "duration": 5,
    "start_time": "2022-11-01T19:29:59.146Z"
   },
   {
    "duration": 5,
    "start_time": "2022-11-01T19:30:11.958Z"
   },
   {
    "duration": 6,
    "start_time": "2022-11-01T19:30:22.172Z"
   },
   {
    "duration": 8,
    "start_time": "2022-11-01T19:30:31.064Z"
   },
   {
    "duration": 5,
    "start_time": "2022-11-01T19:30:55.523Z"
   },
   {
    "duration": 6,
    "start_time": "2022-11-01T19:31:08.636Z"
   },
   {
    "duration": 8,
    "start_time": "2022-11-01T19:31:19.828Z"
   },
   {
    "duration": 6,
    "start_time": "2022-11-01T19:31:30.742Z"
   },
   {
    "duration": 9,
    "start_time": "2022-11-01T19:31:58.059Z"
   },
   {
    "duration": 9,
    "start_time": "2022-11-01T19:32:16.162Z"
   },
   {
    "duration": 10,
    "start_time": "2022-11-01T19:32:39.419Z"
   },
   {
    "duration": 8,
    "start_time": "2022-11-01T19:33:09.317Z"
   },
   {
    "duration": 7,
    "start_time": "2022-11-01T19:33:28.611Z"
   },
   {
    "duration": 9,
    "start_time": "2022-11-01T19:33:50.716Z"
   },
   {
    "duration": 7,
    "start_time": "2022-11-01T19:34:25.616Z"
   },
   {
    "duration": 10,
    "start_time": "2022-11-01T19:34:37.861Z"
   },
   {
    "duration": 7,
    "start_time": "2022-11-01T19:35:35.892Z"
   },
   {
    "duration": 5,
    "start_time": "2022-11-01T19:39:33.655Z"
   },
   {
    "duration": 57,
    "start_time": "2022-11-01T19:42:52.906Z"
   },
   {
    "duration": 66,
    "start_time": "2022-11-01T19:43:03.422Z"
   },
   {
    "duration": 8,
    "start_time": "2022-11-01T19:53:25.517Z"
   },
   {
    "duration": 8,
    "start_time": "2022-11-01T19:56:32.384Z"
   },
   {
    "duration": 6,
    "start_time": "2022-11-01T20:03:05.975Z"
   },
   {
    "duration": 4,
    "start_time": "2022-11-01T20:03:13.131Z"
   },
   {
    "duration": 673,
    "start_time": "2022-11-01T20:07:48.288Z"
   },
   {
    "duration": 5,
    "start_time": "2022-11-01T20:13:10.188Z"
   },
   {
    "duration": 1172,
    "start_time": "2022-11-02T19:26:24.626Z"
   },
   {
    "duration": 109,
    "start_time": "2022-11-02T19:26:25.800Z"
   },
   {
    "duration": 17,
    "start_time": "2022-11-02T19:26:25.910Z"
   },
   {
    "duration": 6,
    "start_time": "2022-11-02T19:26:25.929Z"
   },
   {
    "duration": 18,
    "start_time": "2022-11-02T19:26:25.936Z"
   },
   {
    "duration": 6,
    "start_time": "2022-11-02T19:26:25.956Z"
   },
   {
    "duration": 5,
    "start_time": "2022-11-02T19:26:25.964Z"
   },
   {
    "duration": 11,
    "start_time": "2022-11-02T19:26:25.971Z"
   },
   {
    "duration": 7,
    "start_time": "2022-11-02T19:26:25.983Z"
   },
   {
    "duration": 22,
    "start_time": "2022-11-02T19:27:01.569Z"
   },
   {
    "duration": 8,
    "start_time": "2022-11-02T19:27:12.026Z"
   },
   {
    "duration": 51,
    "start_time": "2022-11-22T19:54:56.918Z"
   },
   {
    "duration": 1095,
    "start_time": "2022-11-22T19:55:03.237Z"
   },
   {
    "duration": 178,
    "start_time": "2022-11-22T19:55:04.334Z"
   },
   {
    "duration": 7,
    "start_time": "2022-11-22T19:55:04.514Z"
   },
   {
    "duration": 14,
    "start_time": "2022-11-22T19:55:04.522Z"
   },
   {
    "duration": 6,
    "start_time": "2022-11-22T19:55:04.538Z"
   },
   {
    "duration": 12,
    "start_time": "2022-11-22T19:55:04.546Z"
   },
   {
    "duration": 19,
    "start_time": "2022-11-22T19:55:04.559Z"
   },
   {
    "duration": 5,
    "start_time": "2022-11-22T19:55:04.580Z"
   },
   {
    "duration": 5,
    "start_time": "2022-11-22T19:55:04.587Z"
   },
   {
    "duration": 38,
    "start_time": "2022-11-22T19:55:04.594Z"
   },
   {
    "duration": 2,
    "start_time": "2022-11-22T19:55:04.633Z"
   },
   {
    "duration": 6,
    "start_time": "2022-11-22T19:55:04.637Z"
   },
   {
    "duration": 4,
    "start_time": "2022-11-22T19:59:50.653Z"
   },
   {
    "duration": 3,
    "start_time": "2022-11-22T20:02:15.339Z"
   },
   {
    "duration": 1215,
    "start_time": "2022-11-22T20:02:51.757Z"
   },
   {
    "duration": 1077,
    "start_time": "2022-11-22T20:02:55.003Z"
   },
   {
    "duration": 1217,
    "start_time": "2022-11-22T20:03:11.671Z"
   },
   {
    "duration": 5,
    "start_time": "2022-11-22T20:03:25.945Z"
   },
   {
    "duration": 5,
    "start_time": "2022-11-22T20:03:47.472Z"
   },
   {
    "duration": 7,
    "start_time": "2022-11-22T20:03:55.639Z"
   },
   {
    "duration": 9,
    "start_time": "2022-11-22T20:04:09.780Z"
   },
   {
    "duration": 9,
    "start_time": "2022-11-22T20:04:18.542Z"
   },
   {
    "duration": 16,
    "start_time": "2022-11-22T20:06:01.029Z"
   },
   {
    "duration": 1115,
    "start_time": "2022-11-22T20:06:31.378Z"
   },
   {
    "duration": 67,
    "start_time": "2022-11-22T20:06:32.495Z"
   },
   {
    "duration": 4,
    "start_time": "2022-11-22T20:06:32.564Z"
   },
   {
    "duration": 10,
    "start_time": "2022-11-22T20:06:32.569Z"
   },
   {
    "duration": 14,
    "start_time": "2022-11-22T20:06:32.580Z"
   },
   {
    "duration": 7,
    "start_time": "2022-11-22T20:06:32.596Z"
   },
   {
    "duration": 10,
    "start_time": "2022-11-22T20:06:32.604Z"
   },
   {
    "duration": 6,
    "start_time": "2022-11-22T20:06:32.615Z"
   },
   {
    "duration": 13,
    "start_time": "2022-11-22T20:06:32.622Z"
   },
   {
    "duration": 5,
    "start_time": "2022-11-22T20:06:32.638Z"
   },
   {
    "duration": 34,
    "start_time": "2022-11-22T20:06:32.645Z"
   },
   {
    "duration": 32,
    "start_time": "2022-11-22T20:06:32.681Z"
   },
   {
    "duration": 2,
    "start_time": "2022-11-22T20:06:32.714Z"
   },
   {
    "duration": 8,
    "start_time": "2022-11-22T20:06:32.717Z"
   },
   {
    "duration": 14,
    "start_time": "2022-11-22T20:06:50.887Z"
   },
   {
    "duration": 9,
    "start_time": "2022-11-22T20:07:59.941Z"
   },
   {
    "duration": 22,
    "start_time": "2022-11-22T20:08:06.696Z"
   },
   {
    "duration": 22,
    "start_time": "2022-11-22T20:08:37.795Z"
   },
   {
    "duration": 1094,
    "start_time": "2022-11-22T20:08:45.174Z"
   },
   {
    "duration": 65,
    "start_time": "2022-11-22T20:08:46.269Z"
   },
   {
    "duration": 4,
    "start_time": "2022-11-22T20:08:46.336Z"
   },
   {
    "duration": 9,
    "start_time": "2022-11-22T20:08:46.341Z"
   },
   {
    "duration": 12,
    "start_time": "2022-11-22T20:08:46.352Z"
   },
   {
    "duration": 4,
    "start_time": "2022-11-22T20:08:46.366Z"
   },
   {
    "duration": 13,
    "start_time": "2022-11-22T20:08:46.371Z"
   },
   {
    "duration": 6,
    "start_time": "2022-11-22T20:08:46.385Z"
   },
   {
    "duration": 19,
    "start_time": "2022-11-22T20:08:46.393Z"
   },
   {
    "duration": 4,
    "start_time": "2022-11-22T20:08:46.414Z"
   },
   {
    "duration": 5,
    "start_time": "2022-11-22T20:08:46.419Z"
   },
   {
    "duration": 61,
    "start_time": "2022-11-22T20:08:46.425Z"
   },
   {
    "duration": 2,
    "start_time": "2022-11-22T20:08:46.488Z"
   },
   {
    "duration": 7,
    "start_time": "2022-11-22T20:08:46.491Z"
   },
   {
    "duration": 13,
    "start_time": "2022-11-22T20:09:37.920Z"
   },
   {
    "duration": 1039,
    "start_time": "2022-11-22T20:10:55.804Z"
   },
   {
    "duration": 65,
    "start_time": "2022-11-22T20:10:56.844Z"
   },
   {
    "duration": 4,
    "start_time": "2022-11-22T20:10:56.910Z"
   },
   {
    "duration": 11,
    "start_time": "2022-11-22T20:10:56.916Z"
   },
   {
    "duration": 14,
    "start_time": "2022-11-22T20:10:56.929Z"
   },
   {
    "duration": 4,
    "start_time": "2022-11-22T20:10:56.944Z"
   },
   {
    "duration": 28,
    "start_time": "2022-11-22T20:10:56.950Z"
   },
   {
    "duration": 7,
    "start_time": "2022-11-22T20:10:56.989Z"
   },
   {
    "duration": 21,
    "start_time": "2022-11-22T20:10:56.997Z"
   },
   {
    "duration": 5,
    "start_time": "2022-11-22T20:10:57.019Z"
   },
   {
    "duration": 7,
    "start_time": "2022-11-22T20:10:57.026Z"
   },
   {
    "duration": 48,
    "start_time": "2022-11-22T20:10:57.035Z"
   },
   {
    "duration": 2,
    "start_time": "2022-11-22T20:10:57.085Z"
   },
   {
    "duration": 7,
    "start_time": "2022-11-22T20:10:57.090Z"
   },
   {
    "duration": 24,
    "start_time": "2022-11-22T20:11:22.816Z"
   },
   {
    "duration": 24,
    "start_time": "2022-11-22T20:11:45.913Z"
   },
   {
    "duration": 109,
    "start_time": "2022-11-22T21:15:05.462Z"
   },
   {
    "duration": 14,
    "start_time": "2022-11-22T21:18:40.264Z"
   },
   {
    "duration": 15,
    "start_time": "2022-11-22T21:18:47.996Z"
   },
   {
    "duration": 5,
    "start_time": "2022-11-22T21:19:16.674Z"
   },
   {
    "duration": 1144,
    "start_time": "2022-11-22T21:19:26.369Z"
   },
   {
    "duration": 65,
    "start_time": "2022-11-22T21:19:27.515Z"
   },
   {
    "duration": 4,
    "start_time": "2022-11-22T21:19:27.581Z"
   },
   {
    "duration": 20,
    "start_time": "2022-11-22T21:19:27.587Z"
   },
   {
    "duration": 31,
    "start_time": "2022-11-22T21:19:27.609Z"
   },
   {
    "duration": 5,
    "start_time": "2022-11-22T21:19:27.641Z"
   },
   {
    "duration": 24,
    "start_time": "2022-11-22T21:19:27.647Z"
   },
   {
    "duration": 21,
    "start_time": "2022-11-22T21:19:27.672Z"
   },
   {
    "duration": 36,
    "start_time": "2022-11-22T21:19:27.695Z"
   },
   {
    "duration": 28,
    "start_time": "2022-11-22T21:19:27.733Z"
   },
   {
    "duration": 18,
    "start_time": "2022-11-22T21:19:27.763Z"
   },
   {
    "duration": 51,
    "start_time": "2022-11-22T21:19:27.783Z"
   },
   {
    "duration": 2,
    "start_time": "2022-11-22T21:19:27.836Z"
   },
   {
    "duration": 26,
    "start_time": "2022-11-22T21:19:27.839Z"
   },
   {
    "duration": 1100,
    "start_time": "2022-11-22T21:28:12.260Z"
   },
   {
    "duration": 66,
    "start_time": "2022-11-22T21:28:13.362Z"
   },
   {
    "duration": 4,
    "start_time": "2022-11-22T21:28:13.429Z"
   },
   {
    "duration": 9,
    "start_time": "2022-11-22T21:28:13.435Z"
   },
   {
    "duration": 15,
    "start_time": "2022-11-22T21:28:13.445Z"
   },
   {
    "duration": 4,
    "start_time": "2022-11-22T21:28:13.462Z"
   },
   {
    "duration": 14,
    "start_time": "2022-11-22T21:28:13.467Z"
   },
   {
    "duration": 9,
    "start_time": "2022-11-22T21:28:13.482Z"
   },
   {
    "duration": 127,
    "start_time": "2022-11-22T21:28:13.493Z"
   },
   {
    "duration": 0,
    "start_time": "2022-11-22T21:28:13.622Z"
   },
   {
    "duration": 0,
    "start_time": "2022-11-22T21:28:13.623Z"
   },
   {
    "duration": 0,
    "start_time": "2022-11-22T21:28:13.623Z"
   },
   {
    "duration": 0,
    "start_time": "2022-11-22T21:28:13.625Z"
   },
   {
    "duration": 0,
    "start_time": "2022-11-22T21:28:13.626Z"
   },
   {
    "duration": 1199,
    "start_time": "2022-11-22T21:40:28.864Z"
   },
   {
    "duration": 66,
    "start_time": "2022-11-22T21:40:30.065Z"
   },
   {
    "duration": 4,
    "start_time": "2022-11-22T21:40:30.133Z"
   },
   {
    "duration": 20,
    "start_time": "2022-11-22T21:40:30.139Z"
   },
   {
    "duration": 23,
    "start_time": "2022-11-22T21:40:30.161Z"
   },
   {
    "duration": 10,
    "start_time": "2022-11-22T21:40:30.186Z"
   },
   {
    "duration": 26,
    "start_time": "2022-11-22T21:40:30.198Z"
   },
   {
    "duration": 16,
    "start_time": "2022-11-22T21:40:30.226Z"
   },
   {
    "duration": 113,
    "start_time": "2022-11-22T21:40:30.244Z"
   },
   {
    "duration": 0,
    "start_time": "2022-11-22T21:40:30.358Z"
   },
   {
    "duration": 0,
    "start_time": "2022-11-22T21:40:30.360Z"
   },
   {
    "duration": 0,
    "start_time": "2022-11-22T21:40:30.361Z"
   },
   {
    "duration": 0,
    "start_time": "2022-11-22T21:40:30.361Z"
   },
   {
    "duration": 0,
    "start_time": "2022-11-22T21:40:30.362Z"
   },
   {
    "duration": 1114,
    "start_time": "2022-11-22T21:41:33.750Z"
   },
   {
    "duration": 65,
    "start_time": "2022-11-22T21:41:34.866Z"
   },
   {
    "duration": 5,
    "start_time": "2022-11-22T21:41:34.933Z"
   },
   {
    "duration": 9,
    "start_time": "2022-11-22T21:41:34.940Z"
   },
   {
    "duration": 23,
    "start_time": "2022-11-22T21:41:34.951Z"
   },
   {
    "duration": 10,
    "start_time": "2022-11-22T21:41:34.975Z"
   },
   {
    "duration": 11,
    "start_time": "2022-11-22T21:41:34.986Z"
   },
   {
    "duration": 10,
    "start_time": "2022-11-22T21:41:34.999Z"
   },
   {
    "duration": 36,
    "start_time": "2022-11-22T21:41:35.011Z"
   },
   {
    "duration": 7,
    "start_time": "2022-11-22T21:41:35.050Z"
   },
   {
    "duration": 17,
    "start_time": "2022-11-22T21:41:35.058Z"
   },
   {
    "duration": 60,
    "start_time": "2022-11-22T21:41:35.078Z"
   },
   {
    "duration": 2,
    "start_time": "2022-11-22T21:41:35.140Z"
   },
   {
    "duration": 20,
    "start_time": "2022-11-22T21:41:35.144Z"
   },
   {
    "duration": 1166,
    "start_time": "2022-11-23T19:51:53.491Z"
   },
   {
    "duration": 107,
    "start_time": "2022-11-23T19:51:54.660Z"
   },
   {
    "duration": 4,
    "start_time": "2022-11-23T19:51:54.769Z"
   },
   {
    "duration": 16,
    "start_time": "2022-11-23T19:51:54.775Z"
   },
   {
    "duration": 19,
    "start_time": "2022-11-23T19:51:54.794Z"
   },
   {
    "duration": 5,
    "start_time": "2022-11-23T19:51:54.815Z"
   },
   {
    "duration": 17,
    "start_time": "2022-11-23T19:51:54.822Z"
   },
   {
    "duration": 8,
    "start_time": "2022-11-23T19:51:54.840Z"
   },
   {
    "duration": 31,
    "start_time": "2022-11-23T19:51:54.850Z"
   },
   {
    "duration": 36,
    "start_time": "2022-11-23T19:51:54.883Z"
   },
   {
    "duration": 12,
    "start_time": "2022-11-23T19:51:54.921Z"
   },
   {
    "duration": 63,
    "start_time": "2022-11-23T19:51:54.935Z"
   },
   {
    "duration": 4,
    "start_time": "2022-11-23T19:51:54.999Z"
   },
   {
    "duration": 15,
    "start_time": "2022-11-23T19:51:55.005Z"
   },
   {
    "duration": 52,
    "start_time": "2022-11-23T19:53:29.859Z"
   },
   {
    "duration": 5,
    "start_time": "2022-11-23T19:53:45.658Z"
   },
   {
    "duration": 24,
    "start_time": "2022-11-23T19:55:35.240Z"
   },
   {
    "duration": 17,
    "start_time": "2022-11-23T19:56:18.636Z"
   },
   {
    "duration": 6,
    "start_time": "2022-11-23T19:56:25.271Z"
   },
   {
    "duration": 131,
    "start_time": "2022-11-23T19:57:18.731Z"
   },
   {
    "duration": 5,
    "start_time": "2022-11-23T19:59:52.630Z"
   },
   {
    "duration": 114,
    "start_time": "2022-11-23T20:00:00.621Z"
   },
   {
    "duration": 26,
    "start_time": "2022-11-23T20:00:26.029Z"
   },
   {
    "duration": 13,
    "start_time": "2022-11-23T20:03:52.859Z"
   },
   {
    "duration": 8,
    "start_time": "2022-11-23T20:03:56.953Z"
   },
   {
    "duration": 18,
    "start_time": "2022-11-23T20:05:17.228Z"
   },
   {
    "duration": 6,
    "start_time": "2022-11-23T20:05:23.367Z"
   },
   {
    "duration": 24,
    "start_time": "2022-11-23T20:06:59.381Z"
   },
   {
    "duration": 7,
    "start_time": "2022-11-23T20:07:04.030Z"
   },
   {
    "duration": 5,
    "start_time": "2022-11-23T20:09:32.872Z"
   },
   {
    "duration": 4,
    "start_time": "2022-11-23T20:09:39.373Z"
   },
   {
    "duration": 19,
    "start_time": "2022-11-23T20:09:49.964Z"
   },
   {
    "duration": 732,
    "start_time": "2022-11-23T20:10:16.954Z"
   },
   {
    "duration": 1145,
    "start_time": "2022-11-23T20:10:28.108Z"
   },
   {
    "duration": 68,
    "start_time": "2022-11-23T20:10:29.255Z"
   },
   {
    "duration": 5,
    "start_time": "2022-11-23T20:10:29.325Z"
   },
   {
    "duration": 11,
    "start_time": "2022-11-23T20:10:29.332Z"
   },
   {
    "duration": 14,
    "start_time": "2022-11-23T20:10:29.345Z"
   },
   {
    "duration": 5,
    "start_time": "2022-11-23T20:10:29.360Z"
   },
   {
    "duration": 11,
    "start_time": "2022-11-23T20:10:29.366Z"
   },
   {
    "duration": 38,
    "start_time": "2022-11-23T20:10:29.379Z"
   },
   {
    "duration": 31,
    "start_time": "2022-11-23T20:10:29.418Z"
   },
   {
    "duration": 6,
    "start_time": "2022-11-23T20:10:29.452Z"
   },
   {
    "duration": 8,
    "start_time": "2022-11-23T20:10:29.459Z"
   },
   {
    "duration": 63,
    "start_time": "2022-11-23T20:10:29.469Z"
   },
   {
    "duration": 3,
    "start_time": "2022-11-23T20:10:29.534Z"
   },
   {
    "duration": 7,
    "start_time": "2022-11-23T20:10:29.538Z"
   },
   {
    "duration": 3,
    "start_time": "2022-11-23T20:12:13.216Z"
   },
   {
    "duration": 9,
    "start_time": "2022-11-23T20:17:00.963Z"
   },
   {
    "duration": 9,
    "start_time": "2022-11-23T20:17:11.184Z"
   },
   {
    "duration": 102,
    "start_time": "2022-11-23T20:18:29.827Z"
   },
   {
    "duration": 16,
    "start_time": "2022-11-23T20:18:32.908Z"
   },
   {
    "duration": 10,
    "start_time": "2022-11-23T20:18:44.105Z"
   },
   {
    "duration": 8,
    "start_time": "2022-11-23T20:20:26.672Z"
   },
   {
    "duration": 15,
    "start_time": "2022-11-23T20:21:51.085Z"
   },
   {
    "duration": 15,
    "start_time": "2022-11-23T20:23:10.657Z"
   },
   {
    "duration": 14,
    "start_time": "2022-11-23T20:23:34.574Z"
   },
   {
    "duration": 39,
    "start_time": "2022-11-23T20:25:15.281Z"
   },
   {
    "duration": 10,
    "start_time": "2022-11-23T20:36:02.874Z"
   },
   {
    "duration": 27,
    "start_time": "2022-11-23T20:36:24.804Z"
   },
   {
    "duration": 21,
    "start_time": "2022-11-23T20:37:26.852Z"
   },
   {
    "duration": 7,
    "start_time": "2022-11-23T20:37:49.936Z"
   },
   {
    "duration": 17,
    "start_time": "2022-11-23T20:41:08.436Z"
   },
   {
    "duration": 17,
    "start_time": "2022-11-23T20:43:00.205Z"
   },
   {
    "duration": 43,
    "start_time": "2022-11-23T20:43:38.867Z"
   },
   {
    "duration": 17,
    "start_time": "2022-11-23T20:43:45.094Z"
   },
   {
    "duration": 16,
    "start_time": "2022-11-23T20:44:11.176Z"
   },
   {
    "duration": 14,
    "start_time": "2022-11-23T20:48:42.372Z"
   },
   {
    "duration": 8,
    "start_time": "2022-11-23T20:49:17.082Z"
   },
   {
    "duration": 6,
    "start_time": "2022-11-23T20:49:18.978Z"
   },
   {
    "duration": 13,
    "start_time": "2022-11-23T20:49:20.470Z"
   },
   {
    "duration": 13,
    "start_time": "2022-11-23T20:50:30.586Z"
   },
   {
    "duration": 14,
    "start_time": "2022-11-23T20:50:47.575Z"
   },
   {
    "duration": 13,
    "start_time": "2022-11-23T20:50:57.327Z"
   },
   {
    "duration": 1166,
    "start_time": "2022-11-24T19:47:23.256Z"
   },
   {
    "duration": 192,
    "start_time": "2022-11-24T19:47:24.424Z"
   },
   {
    "duration": 4,
    "start_time": "2022-11-24T19:47:24.618Z"
   },
   {
    "duration": 25,
    "start_time": "2022-11-24T19:47:24.624Z"
   },
   {
    "duration": 25,
    "start_time": "2022-11-24T19:47:24.651Z"
   },
   {
    "duration": 14,
    "start_time": "2022-11-24T19:47:24.678Z"
   },
   {
    "duration": 34,
    "start_time": "2022-11-24T19:47:24.693Z"
   },
   {
    "duration": 15,
    "start_time": "2022-11-24T19:47:24.729Z"
   },
   {
    "duration": 46,
    "start_time": "2022-11-24T19:47:24.746Z"
   },
   {
    "duration": 40,
    "start_time": "2022-11-24T19:47:24.794Z"
   },
   {
    "duration": 9,
    "start_time": "2022-11-24T19:47:24.835Z"
   },
   {
    "duration": 26,
    "start_time": "2022-11-24T19:47:24.846Z"
   },
   {
    "duration": 27,
    "start_time": "2022-11-24T19:47:24.874Z"
   },
   {
    "duration": 36,
    "start_time": "2022-11-24T19:47:24.902Z"
   },
   {
    "duration": 9,
    "start_time": "2022-11-24T19:47:24.940Z"
   },
   {
    "duration": 21,
    "start_time": "2022-11-24T19:47:24.951Z"
   },
   {
    "duration": 120,
    "start_time": "2022-11-24T19:47:24.974Z"
   },
   {
    "duration": 0,
    "start_time": "2022-11-24T19:47:25.096Z"
   },
   {
    "duration": 0,
    "start_time": "2022-11-24T19:47:25.097Z"
   },
   {
    "duration": 0,
    "start_time": "2022-11-24T19:47:25.099Z"
   },
   {
    "duration": 0,
    "start_time": "2022-11-24T19:47:25.100Z"
   },
   {
    "duration": 14,
    "start_time": "2022-11-24T19:48:16.448Z"
   },
   {
    "duration": 6,
    "start_time": "2022-11-24T19:48:38.190Z"
   },
   {
    "duration": 15,
    "start_time": "2022-11-24T19:50:24.513Z"
   },
   {
    "duration": 19,
    "start_time": "2022-11-24T19:52:20.290Z"
   },
   {
    "duration": 14,
    "start_time": "2022-11-24T19:52:42.700Z"
   },
   {
    "duration": 1102,
    "start_time": "2022-11-24T19:52:57.272Z"
   },
   {
    "duration": 69,
    "start_time": "2022-11-24T19:52:58.376Z"
   },
   {
    "duration": 4,
    "start_time": "2022-11-24T19:52:58.447Z"
   },
   {
    "duration": 11,
    "start_time": "2022-11-24T19:52:58.452Z"
   },
   {
    "duration": 13,
    "start_time": "2022-11-24T19:52:58.465Z"
   },
   {
    "duration": 5,
    "start_time": "2022-11-24T19:52:58.480Z"
   },
   {
    "duration": 9,
    "start_time": "2022-11-24T19:52:58.487Z"
   },
   {
    "duration": 6,
    "start_time": "2022-11-24T19:52:58.498Z"
   },
   {
    "duration": 29,
    "start_time": "2022-11-24T19:52:58.506Z"
   },
   {
    "duration": 75,
    "start_time": "2022-11-24T19:52:58.537Z"
   },
   {
    "duration": 11,
    "start_time": "2022-11-24T19:52:58.613Z"
   },
   {
    "duration": 114,
    "start_time": "2022-11-24T19:52:58.626Z"
   },
   {
    "duration": 0,
    "start_time": "2022-11-24T19:52:58.742Z"
   },
   {
    "duration": 0,
    "start_time": "2022-11-24T19:52:58.743Z"
   },
   {
    "duration": 0,
    "start_time": "2022-11-24T19:52:58.744Z"
   },
   {
    "duration": 0,
    "start_time": "2022-11-24T19:52:58.745Z"
   },
   {
    "duration": 0,
    "start_time": "2022-11-24T19:52:58.746Z"
   },
   {
    "duration": 0,
    "start_time": "2022-11-24T19:52:58.747Z"
   },
   {
    "duration": 1,
    "start_time": "2022-11-24T19:52:58.747Z"
   },
   {
    "duration": 0,
    "start_time": "2022-11-24T19:52:58.749Z"
   },
   {
    "duration": 0,
    "start_time": "2022-11-24T19:52:58.750Z"
   },
   {
    "duration": 9,
    "start_time": "2022-11-24T19:53:48.096Z"
   },
   {
    "duration": 9,
    "start_time": "2022-11-24T19:53:50.599Z"
   },
   {
    "duration": 9,
    "start_time": "2022-11-24T19:55:06.757Z"
   },
   {
    "duration": 4,
    "start_time": "2022-11-24T19:55:14.868Z"
   },
   {
    "duration": 70,
    "start_time": "2022-11-24T19:55:27.352Z"
   },
   {
    "duration": 14,
    "start_time": "2022-11-24T19:55:41.712Z"
   },
   {
    "duration": 6,
    "start_time": "2022-11-24T19:55:48.865Z"
   },
   {
    "duration": 14,
    "start_time": "2022-11-24T19:55:52.139Z"
   },
   {
    "duration": 16,
    "start_time": "2022-11-24T19:56:12.068Z"
   },
   {
    "duration": 8,
    "start_time": "2022-11-24T19:56:43.441Z"
   },
   {
    "duration": 6,
    "start_time": "2022-11-24T19:56:45.830Z"
   },
   {
    "duration": 26,
    "start_time": "2022-11-24T19:56:49.690Z"
   },
   {
    "duration": 156,
    "start_time": "2022-11-24T19:56:59.751Z"
   },
   {
    "duration": 844,
    "start_time": "2022-11-24T19:58:00.791Z"
   },
   {
    "duration": 759,
    "start_time": "2022-11-24T19:58:15.570Z"
   },
   {
    "duration": 0,
    "start_time": "2022-11-24T20:03:25.904Z"
   },
   {
    "duration": 0,
    "start_time": "2022-11-24T20:03:25.906Z"
   },
   {
    "duration": 0,
    "start_time": "2022-11-24T20:03:25.906Z"
   },
   {
    "duration": 30,
    "start_time": "2022-11-24T20:03:29.994Z"
   },
   {
    "duration": 3,
    "start_time": "2022-11-24T20:03:38.585Z"
   },
   {
    "duration": 169,
    "start_time": "2022-11-24T20:03:47.316Z"
   },
   {
    "duration": 167,
    "start_time": "2022-11-24T20:04:06.710Z"
   },
   {
    "duration": 163,
    "start_time": "2022-11-24T20:05:21.542Z"
   },
   {
    "duration": 157,
    "start_time": "2022-11-24T20:05:27.269Z"
   },
   {
    "duration": 151,
    "start_time": "2022-11-24T20:05:30.946Z"
   },
   {
    "duration": 172,
    "start_time": "2022-11-24T20:05:39.555Z"
   },
   {
    "duration": 730,
    "start_time": "2022-11-24T20:06:15.833Z"
   },
   {
    "duration": 1496,
    "start_time": "2022-11-24T20:06:33.258Z"
   },
   {
    "duration": 767,
    "start_time": "2022-11-24T20:06:42.388Z"
   },
   {
    "duration": 0,
    "start_time": "2022-11-24T20:09:45.190Z"
   },
   {
    "duration": 147416,
    "start_time": "2022-11-24T20:09:46.764Z"
   },
   {
    "duration": 154578,
    "start_time": "2022-11-24T20:23:40.505Z"
   },
   {
    "duration": 168,
    "start_time": "2022-11-24T20:30:36.619Z"
   },
   {
    "duration": 162,
    "start_time": "2022-11-24T20:30:49.908Z"
   },
   {
    "duration": 84572,
    "start_time": "2022-11-24T20:31:14.609Z"
   },
   {
    "duration": 17621,
    "start_time": "2022-11-24T20:32:49.960Z"
   },
   {
    "duration": 104756,
    "start_time": "2022-11-24T20:33:09.223Z"
   },
   {
    "duration": 111338,
    "start_time": "2022-11-24T20:37:14.840Z"
   },
   {
    "duration": 1120,
    "start_time": "2022-11-25T20:53:40.418Z"
   },
   {
    "duration": 190,
    "start_time": "2022-11-25T20:53:41.539Z"
   },
   {
    "duration": 4,
    "start_time": "2022-11-25T20:53:41.730Z"
   },
   {
    "duration": 9,
    "start_time": "2022-11-25T20:53:41.736Z"
   },
   {
    "duration": 13,
    "start_time": "2022-11-25T20:53:41.746Z"
   },
   {
    "duration": 4,
    "start_time": "2022-11-25T20:53:41.760Z"
   },
   {
    "duration": 9,
    "start_time": "2022-11-25T20:53:41.766Z"
   },
   {
    "duration": 6,
    "start_time": "2022-11-25T20:53:41.776Z"
   },
   {
    "duration": 55,
    "start_time": "2022-11-25T20:53:41.783Z"
   },
   {
    "duration": 36,
    "start_time": "2022-11-25T20:53:41.841Z"
   },
   {
    "duration": 10,
    "start_time": "2022-11-25T20:53:41.879Z"
   },
   {
    "duration": 12,
    "start_time": "2022-11-25T20:53:41.891Z"
   },
   {
    "duration": 7,
    "start_time": "2022-11-25T20:53:41.904Z"
   },
   {
    "duration": 40,
    "start_time": "2022-11-25T20:53:41.912Z"
   },
   {
    "duration": 6,
    "start_time": "2022-11-25T20:53:41.953Z"
   },
   {
    "duration": 9,
    "start_time": "2022-11-25T20:53:41.961Z"
   },
   {
    "duration": 185,
    "start_time": "2022-11-25T20:53:41.971Z"
   },
   {
    "duration": 735,
    "start_time": "2022-11-25T20:53:42.158Z"
   },
   {
    "duration": 100452,
    "start_time": "2022-11-25T20:53:42.894Z"
   },
   {
    "duration": 107699,
    "start_time": "2022-11-25T20:55:23.440Z"
   },
   {
    "duration": 181,
    "start_time": "2022-11-25T20:57:11.141Z"
   },
   {
    "duration": 18,
    "start_time": "2022-11-25T21:04:50.574Z"
   },
   {
    "duration": 18,
    "start_time": "2022-11-25T21:08:03.905Z"
   },
   {
    "duration": 20,
    "start_time": "2022-11-25T21:09:06.202Z"
   },
   {
    "duration": 23,
    "start_time": "2022-11-25T21:09:20.501Z"
   },
   {
    "duration": 4,
    "start_time": "2022-11-25T21:16:12.198Z"
   },
   {
    "duration": 41,
    "start_time": "2022-11-25T21:16:17.207Z"
   },
   {
    "duration": 66,
    "start_time": "2022-11-25T21:16:51.073Z"
   },
   {
    "duration": 36,
    "start_time": "2022-11-25T21:17:05.021Z"
   },
   {
    "duration": 1016,
    "start_time": "2022-11-26T15:09:54.181Z"
   },
   {
    "duration": 104,
    "start_time": "2022-11-26T15:09:55.199Z"
   },
   {
    "duration": 4,
    "start_time": "2022-11-26T15:09:55.305Z"
   },
   {
    "duration": 11,
    "start_time": "2022-11-26T15:09:55.310Z"
   },
   {
    "duration": 28,
    "start_time": "2022-11-26T15:09:55.322Z"
   },
   {
    "duration": 11,
    "start_time": "2022-11-26T15:09:55.352Z"
   },
   {
    "duration": 18,
    "start_time": "2022-11-26T15:09:55.365Z"
   },
   {
    "duration": 7,
    "start_time": "2022-11-26T15:09:55.385Z"
   },
   {
    "duration": 44,
    "start_time": "2022-11-26T15:09:55.393Z"
   },
   {
    "duration": 37,
    "start_time": "2022-11-26T15:09:55.440Z"
   },
   {
    "duration": 11,
    "start_time": "2022-11-26T15:09:55.478Z"
   },
   {
    "duration": 20,
    "start_time": "2022-11-26T15:09:55.490Z"
   },
   {
    "duration": 16,
    "start_time": "2022-11-26T15:09:55.511Z"
   },
   {
    "duration": 20,
    "start_time": "2022-11-26T15:09:55.537Z"
   },
   {
    "duration": 7,
    "start_time": "2022-11-26T15:09:55.558Z"
   },
   {
    "duration": 20,
    "start_time": "2022-11-26T15:09:55.567Z"
   },
   {
    "duration": 175,
    "start_time": "2022-11-26T15:09:55.588Z"
   },
   {
    "duration": 752,
    "start_time": "2022-11-26T15:09:55.765Z"
   },
   {
    "duration": 94825,
    "start_time": "2022-11-26T15:09:56.519Z"
   },
   {
    "duration": 96705,
    "start_time": "2022-11-26T15:11:31.436Z"
   },
   {
    "duration": 219,
    "start_time": "2022-11-26T15:13:08.143Z"
   },
   {
    "duration": 1113,
    "start_time": "2022-11-29T19:31:15.165Z"
   },
   {
    "duration": 412,
    "start_time": "2022-11-29T19:31:16.280Z"
   },
   {
    "duration": 4,
    "start_time": "2022-11-29T19:31:16.693Z"
   },
   {
    "duration": 9,
    "start_time": "2022-11-29T19:31:16.698Z"
   },
   {
    "duration": 12,
    "start_time": "2022-11-29T19:31:16.709Z"
   },
   {
    "duration": 7,
    "start_time": "2022-11-29T19:31:16.723Z"
   },
   {
    "duration": 9,
    "start_time": "2022-11-29T19:31:16.731Z"
   },
   {
    "duration": 5,
    "start_time": "2022-11-29T19:31:16.741Z"
   },
   {
    "duration": 54,
    "start_time": "2022-11-29T19:31:16.748Z"
   },
   {
    "duration": 37,
    "start_time": "2022-11-29T19:31:16.804Z"
   },
   {
    "duration": 12,
    "start_time": "2022-11-29T19:31:16.842Z"
   },
   {
    "duration": 13,
    "start_time": "2022-11-29T19:31:16.878Z"
   },
   {
    "duration": 6,
    "start_time": "2022-11-29T19:31:16.893Z"
   },
   {
    "duration": 18,
    "start_time": "2022-11-29T19:31:16.901Z"
   },
   {
    "duration": 7,
    "start_time": "2022-11-29T19:31:16.920Z"
   },
   {
    "duration": 11,
    "start_time": "2022-11-29T19:31:16.928Z"
   },
   {
    "duration": 196,
    "start_time": "2022-11-29T19:31:16.941Z"
   },
   {
    "duration": 710,
    "start_time": "2022-11-29T19:31:17.138Z"
   },
   {
    "duration": 104932,
    "start_time": "2022-11-29T19:31:17.850Z"
   },
   {
    "duration": 1063,
    "start_time": "2022-11-29T19:34:16.829Z"
   },
   {
    "duration": 67,
    "start_time": "2022-11-29T19:34:17.894Z"
   },
   {
    "duration": 4,
    "start_time": "2022-11-29T19:34:17.963Z"
   },
   {
    "duration": 9,
    "start_time": "2022-11-29T19:34:17.968Z"
   },
   {
    "duration": 13,
    "start_time": "2022-11-29T19:34:17.980Z"
   },
   {
    "duration": 5,
    "start_time": "2022-11-29T19:34:17.995Z"
   },
   {
    "duration": 11,
    "start_time": "2022-11-29T19:34:18.002Z"
   },
   {
    "duration": 6,
    "start_time": "2022-11-29T19:34:18.015Z"
   },
   {
    "duration": 56,
    "start_time": "2022-11-29T19:34:18.023Z"
   },
   {
    "duration": 38,
    "start_time": "2022-11-29T19:34:18.081Z"
   },
   {
    "duration": 12,
    "start_time": "2022-11-29T19:34:18.121Z"
   },
   {
    "duration": 12,
    "start_time": "2022-11-29T19:34:18.135Z"
   },
   {
    "duration": 7,
    "start_time": "2022-11-29T19:34:18.178Z"
   },
   {
    "duration": 17,
    "start_time": "2022-11-29T19:34:18.189Z"
   },
   {
    "duration": 7,
    "start_time": "2022-11-29T19:34:18.208Z"
   },
   {
    "duration": 6,
    "start_time": "2022-11-29T19:34:18.217Z"
   },
   {
    "duration": 201,
    "start_time": "2022-11-29T19:34:18.224Z"
   },
   {
    "duration": 737,
    "start_time": "2022-11-29T19:34:18.427Z"
   },
   {
    "duration": 106118,
    "start_time": "2022-11-29T19:34:19.166Z"
   },
   {
    "duration": 112200,
    "start_time": "2022-11-29T19:36:05.286Z"
   },
   {
    "duration": 129,
    "start_time": "2022-11-29T19:37:57.580Z"
   },
   {
    "duration": 225599,
    "start_time": "2022-11-29T19:37:57.780Z"
   },
   {
    "duration": 391,
    "start_time": "2022-11-29T19:41:43.579Z"
   },
   {
    "duration": 240110,
    "start_time": "2022-11-29T19:43:10.479Z"
   },
   {
    "duration": 206,
    "start_time": "2022-11-29T19:47:46.976Z"
   },
   {
    "duration": 25,
    "start_time": "2022-11-29T19:48:15.912Z"
   },
   {
    "duration": 80,
    "start_time": "2022-11-29T20:00:40.605Z"
   },
   {
    "duration": 57,
    "start_time": "2022-11-29T20:04:10.122Z"
   },
   {
    "duration": 33,
    "start_time": "2022-11-29T20:04:14.377Z"
   },
   {
    "duration": 236,
    "start_time": "2022-11-29T20:08:04.147Z"
   },
   {
    "duration": 77,
    "start_time": "2022-11-29T20:09:46.110Z"
   },
   {
    "duration": 1131,
    "start_time": "2022-11-30T20:15:02.067Z"
   },
   {
    "duration": 128,
    "start_time": "2022-11-30T20:15:03.199Z"
   },
   {
    "duration": 4,
    "start_time": "2022-11-30T20:15:03.329Z"
   },
   {
    "duration": 14,
    "start_time": "2022-11-30T20:15:03.335Z"
   },
   {
    "duration": 17,
    "start_time": "2022-11-30T20:15:03.351Z"
   },
   {
    "duration": 5,
    "start_time": "2022-11-30T20:15:03.369Z"
   },
   {
    "duration": 26,
    "start_time": "2022-11-30T20:15:03.375Z"
   },
   {
    "duration": 7,
    "start_time": "2022-11-30T20:15:03.402Z"
   },
   {
    "duration": 28,
    "start_time": "2022-11-30T20:15:03.411Z"
   },
   {
    "duration": 64,
    "start_time": "2022-11-30T20:15:03.441Z"
   },
   {
    "duration": 13,
    "start_time": "2022-11-30T20:15:03.506Z"
   },
   {
    "duration": 13,
    "start_time": "2022-11-30T20:15:03.520Z"
   },
   {
    "duration": 7,
    "start_time": "2022-11-30T20:15:03.534Z"
   },
   {
    "duration": 18,
    "start_time": "2022-11-30T20:15:03.543Z"
   },
   {
    "duration": 34,
    "start_time": "2022-11-30T20:15:03.563Z"
   },
   {
    "duration": 6,
    "start_time": "2022-11-30T20:15:03.599Z"
   },
   {
    "duration": 191,
    "start_time": "2022-11-30T20:15:03.607Z"
   },
   {
    "duration": 768,
    "start_time": "2022-11-30T20:15:03.800Z"
   },
   {
    "duration": 190831,
    "start_time": "2022-11-30T20:15:04.569Z"
   },
   {
    "duration": 197502,
    "start_time": "2022-11-30T20:18:15.402Z"
   },
   {
    "duration": 490,
    "start_time": "2022-11-30T20:21:32.908Z"
   },
   {
    "duration": 0,
    "start_time": "2022-11-30T20:21:33.399Z"
   },
   {
    "duration": 56,
    "start_time": "2022-11-30T20:30:49.650Z"
   },
   {
    "duration": 33,
    "start_time": "2022-11-30T20:33:58.163Z"
   },
   {
    "duration": 30,
    "start_time": "2022-11-30T20:34:36.221Z"
   },
   {
    "duration": 26,
    "start_time": "2022-11-30T20:36:28.880Z"
   },
   {
    "duration": 29,
    "start_time": "2022-11-30T20:38:36.123Z"
   },
   {
    "duration": 188,
    "start_time": "2022-11-30T20:40:38.101Z"
   },
   {
    "duration": 180,
    "start_time": "2022-11-30T20:41:27.779Z"
   },
   {
    "duration": 1178,
    "start_time": "2022-12-01T19:35:45.713Z"
   },
   {
    "duration": 124,
    "start_time": "2022-12-01T19:35:46.893Z"
   },
   {
    "duration": 4,
    "start_time": "2022-12-01T19:35:47.019Z"
   },
   {
    "duration": 60,
    "start_time": "2022-12-01T19:35:47.026Z"
   },
   {
    "duration": 52,
    "start_time": "2022-12-01T19:35:47.088Z"
   },
   {
    "duration": 28,
    "start_time": "2022-12-01T19:35:47.142Z"
   },
   {
    "duration": 54,
    "start_time": "2022-12-01T19:35:47.171Z"
   },
   {
    "duration": 54,
    "start_time": "2022-12-01T19:35:47.226Z"
   },
   {
    "duration": 82,
    "start_time": "2022-12-01T19:35:47.282Z"
   },
   {
    "duration": 77,
    "start_time": "2022-12-01T19:35:47.367Z"
   },
   {
    "duration": 30,
    "start_time": "2022-12-01T19:35:47.446Z"
   },
   {
    "duration": 60,
    "start_time": "2022-12-01T19:35:47.477Z"
   },
   {
    "duration": 42,
    "start_time": "2022-12-01T19:35:47.539Z"
   },
   {
    "duration": 85,
    "start_time": "2022-12-01T19:35:47.582Z"
   },
   {
    "duration": 56,
    "start_time": "2022-12-01T19:35:47.669Z"
   },
   {
    "duration": 66,
    "start_time": "2022-12-01T19:35:47.727Z"
   },
   {
    "duration": 222,
    "start_time": "2022-12-01T19:35:47.795Z"
   },
   {
    "duration": 745,
    "start_time": "2022-12-01T19:35:48.019Z"
   },
   {
    "duration": 208779,
    "start_time": "2022-12-01T19:35:48.765Z"
   },
   {
    "duration": 209599,
    "start_time": "2022-12-01T19:39:17.546Z"
   },
   {
    "duration": 117,
    "start_time": "2022-12-01T19:42:47.237Z"
   },
   {
    "duration": 346,
    "start_time": "2022-12-01T19:42:47.356Z"
   },
   {
    "duration": 169,
    "start_time": "2022-12-01T19:42:47.704Z"
   },
   {
    "duration": 7,
    "start_time": "2022-12-01T19:42:47.875Z"
   },
   {
    "duration": 211383,
    "start_time": "2022-12-01T20:04:34.960Z"
   },
   {
    "duration": 1197,
    "start_time": "2022-12-06T19:55:52.203Z"
   },
   {
    "duration": 118,
    "start_time": "2022-12-06T19:55:53.402Z"
   },
   {
    "duration": 5,
    "start_time": "2022-12-06T19:55:53.521Z"
   },
   {
    "duration": 12,
    "start_time": "2022-12-06T19:55:53.528Z"
   },
   {
    "duration": 13,
    "start_time": "2022-12-06T19:55:53.542Z"
   },
   {
    "duration": 5,
    "start_time": "2022-12-06T19:55:53.557Z"
   },
   {
    "duration": 13,
    "start_time": "2022-12-06T19:55:53.563Z"
   },
   {
    "duration": 7,
    "start_time": "2022-12-06T19:55:53.578Z"
   },
   {
    "duration": 30,
    "start_time": "2022-12-06T19:55:53.586Z"
   },
   {
    "duration": 77,
    "start_time": "2022-12-06T19:55:53.620Z"
   },
   {
    "duration": 15,
    "start_time": "2022-12-06T19:55:53.699Z"
   },
   {
    "duration": 26,
    "start_time": "2022-12-06T19:55:53.716Z"
   },
   {
    "duration": 6,
    "start_time": "2022-12-06T19:55:53.755Z"
   },
   {
    "duration": 20,
    "start_time": "2022-12-06T19:55:53.762Z"
   },
   {
    "duration": 8,
    "start_time": "2022-12-06T19:55:53.784Z"
   },
   {
    "duration": 15,
    "start_time": "2022-12-06T19:55:53.794Z"
   },
   {
    "duration": 202,
    "start_time": "2022-12-06T19:55:53.811Z"
   },
   {
    "duration": 857,
    "start_time": "2022-12-06T19:55:54.014Z"
   },
   {
    "duration": 187195,
    "start_time": "2022-12-06T19:55:54.873Z"
   },
   {
    "duration": 174994,
    "start_time": "2022-12-06T19:59:02.070Z"
   },
   {
    "duration": 205,
    "start_time": "2022-12-06T20:01:57.066Z"
   },
   {
    "duration": 355,
    "start_time": "2022-12-06T20:01:57.275Z"
   },
   {
    "duration": 182,
    "start_time": "2022-12-06T20:01:57.632Z"
   },
   {
    "duration": 8,
    "start_time": "2022-12-06T20:01:57.817Z"
   },
   {
    "duration": 810,
    "start_time": "2022-12-06T20:06:13.740Z"
   },
   {
    "duration": 786,
    "start_time": "2022-12-06T20:09:19.150Z"
   },
   {
    "duration": 1080,
    "start_time": "2022-12-06T20:10:40.672Z"
   },
   {
    "duration": 1074,
    "start_time": "2022-12-06T20:10:56.662Z"
   },
   {
    "duration": 1139,
    "start_time": "2022-12-07T09:36:35.496Z"
   },
   {
    "duration": 204,
    "start_time": "2022-12-07T09:36:36.637Z"
   },
   {
    "duration": 4,
    "start_time": "2022-12-07T09:36:36.843Z"
   },
   {
    "duration": 9,
    "start_time": "2022-12-07T09:36:36.849Z"
   },
   {
    "duration": 14,
    "start_time": "2022-12-07T09:36:36.860Z"
   },
   {
    "duration": 6,
    "start_time": "2022-12-07T09:36:36.875Z"
   },
   {
    "duration": 15,
    "start_time": "2022-12-07T09:36:36.882Z"
   },
   {
    "duration": 6,
    "start_time": "2022-12-07T09:36:36.898Z"
   },
   {
    "duration": 57,
    "start_time": "2022-12-07T09:36:36.906Z"
   },
   {
    "duration": 38,
    "start_time": "2022-12-07T09:36:36.966Z"
   },
   {
    "duration": 12,
    "start_time": "2022-12-07T09:36:37.006Z"
   },
   {
    "duration": 32,
    "start_time": "2022-12-07T09:36:37.020Z"
   },
   {
    "duration": 8,
    "start_time": "2022-12-07T09:36:37.053Z"
   },
   {
    "duration": 24,
    "start_time": "2022-12-07T09:36:37.062Z"
   },
   {
    "duration": 7,
    "start_time": "2022-12-07T09:36:37.088Z"
   },
   {
    "duration": 14,
    "start_time": "2022-12-07T09:36:37.096Z"
   },
   {
    "duration": 199,
    "start_time": "2022-12-07T09:36:37.112Z"
   },
   {
    "duration": 787,
    "start_time": "2022-12-07T09:36:37.312Z"
   },
   {
    "duration": 208759,
    "start_time": "2022-12-07T09:36:38.101Z"
   },
   {
    "duration": 211404,
    "start_time": "2022-12-07T09:40:06.952Z"
   },
   {
    "duration": 1208,
    "start_time": "2022-12-07T09:43:38.358Z"
   },
   {
    "duration": 378,
    "start_time": "2022-12-07T09:43:39.567Z"
   },
   {
    "duration": 0,
    "start_time": "2022-12-07T09:43:39.946Z"
   },
   {
    "duration": 0,
    "start_time": "2022-12-07T09:43:39.951Z"
   },
   {
    "duration": 196031,
    "start_time": "2022-12-07T09:44:11.026Z"
   },
   {
    "duration": 376,
    "start_time": "2022-12-07T09:47:27.061Z"
   },
   {
    "duration": 189,
    "start_time": "2022-12-07T09:47:27.439Z"
   },
   {
    "duration": 9,
    "start_time": "2022-12-07T09:47:27.630Z"
   },
   {
    "duration": 193951,
    "start_time": "2022-12-07T09:48:30.803Z"
   },
   {
    "duration": 189,
    "start_time": "2022-12-07T11:10:10.356Z"
   },
   {
    "duration": 810,
    "start_time": "2022-12-07T11:10:20.752Z"
   },
   {
    "duration": 200687,
    "start_time": "2022-12-07T11:10:41.570Z"
   },
   {
    "duration": 19,
    "start_time": "2022-12-07T11:14:26.983Z"
   },
   {
    "duration": 58,
    "start_time": "2022-12-10T20:41:48.759Z"
   },
   {
    "duration": 1160,
    "start_time": "2022-12-10T20:41:55.610Z"
   },
   {
    "duration": 118,
    "start_time": "2022-12-10T20:41:56.772Z"
   },
   {
    "duration": 4,
    "start_time": "2022-12-10T20:41:56.892Z"
   },
   {
    "duration": 20,
    "start_time": "2022-12-10T20:41:56.898Z"
   },
   {
    "duration": 16,
    "start_time": "2022-12-10T20:41:56.920Z"
   },
   {
    "duration": 6,
    "start_time": "2022-12-10T20:41:56.938Z"
   },
   {
    "duration": 26,
    "start_time": "2022-12-10T20:41:56.957Z"
   },
   {
    "duration": 7,
    "start_time": "2022-12-10T20:41:56.984Z"
   },
   {
    "duration": 29,
    "start_time": "2022-12-10T20:41:56.993Z"
   },
   {
    "duration": 58,
    "start_time": "2022-12-10T20:41:57.024Z"
   },
   {
    "duration": 16,
    "start_time": "2022-12-10T20:41:57.084Z"
   },
   {
    "duration": 13,
    "start_time": "2022-12-10T20:41:57.102Z"
   },
   {
    "duration": 8,
    "start_time": "2022-12-10T20:41:57.117Z"
   },
   {
    "duration": 43,
    "start_time": "2022-12-10T20:41:57.126Z"
   },
   {
    "duration": 9,
    "start_time": "2022-12-10T20:41:57.171Z"
   },
   {
    "duration": 9,
    "start_time": "2022-12-10T20:41:57.182Z"
   },
   {
    "duration": 222,
    "start_time": "2022-12-10T20:41:57.192Z"
   },
   {
    "duration": 874,
    "start_time": "2022-12-10T20:41:57.415Z"
   },
   {
    "duration": 173281,
    "start_time": "2022-12-10T20:41:58.291Z"
   },
   {
    "duration": 102,
    "start_time": "2022-12-10T20:44:51.658Z"
   },
   {
    "duration": 188713,
    "start_time": "2022-12-10T20:44:51.762Z"
   },
   {
    "duration": 1342,
    "start_time": "2022-12-10T20:48:00.478Z"
   },
   {
    "duration": 205,
    "start_time": "2022-12-10T20:48:01.822Z"
   },
   {
    "duration": 205,
    "start_time": "2022-12-10T20:48:02.029Z"
   },
   {
    "duration": 8,
    "start_time": "2022-12-10T20:48:02.235Z"
   },
   {
    "duration": 69,
    "start_time": "2022-12-10T20:48:02.246Z"
   },
   {
    "duration": 103,
    "start_time": "2022-12-10T20:48:09.309Z"
   },
   {
    "duration": 1086,
    "start_time": "2022-12-12T19:47:12.133Z"
   },
   {
    "duration": 117,
    "start_time": "2022-12-12T19:47:13.221Z"
   },
   {
    "duration": 5,
    "start_time": "2022-12-12T19:47:13.339Z"
   },
   {
    "duration": 13,
    "start_time": "2022-12-12T19:47:13.346Z"
   },
   {
    "duration": 14,
    "start_time": "2022-12-12T19:47:13.361Z"
   },
   {
    "duration": 6,
    "start_time": "2022-12-12T19:47:13.376Z"
   },
   {
    "duration": 33,
    "start_time": "2022-12-12T19:47:13.384Z"
   },
   {
    "duration": 6,
    "start_time": "2022-12-12T19:47:13.419Z"
   },
   {
    "duration": 29,
    "start_time": "2022-12-12T19:47:13.427Z"
   },
   {
    "duration": 63,
    "start_time": "2022-12-12T19:47:13.458Z"
   },
   {
    "duration": 12,
    "start_time": "2022-12-12T19:47:13.523Z"
   },
   {
    "duration": 13,
    "start_time": "2022-12-12T19:47:13.536Z"
   },
   {
    "duration": 6,
    "start_time": "2022-12-12T19:47:13.551Z"
   },
   {
    "duration": 18,
    "start_time": "2022-12-12T19:47:13.558Z"
   },
   {
    "duration": 40,
    "start_time": "2022-12-12T19:47:13.577Z"
   },
   {
    "duration": 9,
    "start_time": "2022-12-12T19:47:13.618Z"
   },
   {
    "duration": 184,
    "start_time": "2022-12-12T19:47:13.629Z"
   },
   {
    "duration": 810,
    "start_time": "2022-12-12T19:47:13.815Z"
   },
   {
    "duration": 200887,
    "start_time": "2022-12-12T19:47:14.626Z"
   },
   {
    "duration": 121,
    "start_time": "2022-12-12T19:50:35.515Z"
   },
   {
    "duration": 104,
    "start_time": "2022-12-12T19:50:35.638Z"
   },
   {
    "duration": 54,
    "start_time": "2022-12-12T19:50:35.744Z"
   },
   {
    "duration": 0,
    "start_time": "2022-12-12T19:50:35.799Z"
   },
   {
    "duration": 0,
    "start_time": "2022-12-12T19:50:35.801Z"
   },
   {
    "duration": 0,
    "start_time": "2022-12-12T19:50:35.803Z"
   },
   {
    "duration": 0,
    "start_time": "2022-12-12T19:50:35.804Z"
   },
   {
    "duration": 0,
    "start_time": "2022-12-12T19:50:35.805Z"
   },
   {
    "duration": 198805,
    "start_time": "2022-12-12T20:00:52.511Z"
   },
   {
    "duration": 862,
    "start_time": "2022-12-12T20:05:11.882Z"
   },
   {
    "duration": 141,
    "start_time": "2022-12-12T20:14:13.995Z"
   },
   {
    "duration": 146,
    "start_time": "2022-12-12T20:14:53.977Z"
   },
   {
    "duration": 207532,
    "start_time": "2022-12-12T20:15:30.488Z"
   },
   {
    "duration": 1252,
    "start_time": "2022-12-12T20:18:58.022Z"
   },
   {
    "duration": 100,
    "start_time": "2022-12-12T20:19:27.655Z"
   },
   {
    "duration": 226,
    "start_time": "2022-12-12T20:26:29.609Z"
   },
   {
    "duration": 45,
    "start_time": "2022-12-12T20:27:53.518Z"
   },
   {
    "duration": 36,
    "start_time": "2022-12-12T20:28:29.685Z"
   },
   {
    "duration": 38,
    "start_time": "2022-12-12T20:29:34.915Z"
   },
   {
    "duration": 98,
    "start_time": "2022-12-12T20:29:57.627Z"
   },
   {
    "duration": 257,
    "start_time": "2022-12-12T20:30:19.845Z"
   },
   {
    "duration": 33,
    "start_time": "2022-12-12T20:30:57.720Z"
   },
   {
    "duration": 20593,
    "start_time": "2022-12-12T20:31:54.726Z"
   },
   {
    "duration": 48,
    "start_time": "2023-01-05T20:22:29.395Z"
   },
   {
    "duration": 1121,
    "start_time": "2023-01-05T20:27:09.384Z"
   },
   {
    "duration": 116,
    "start_time": "2023-01-05T20:27:10.507Z"
   },
   {
    "duration": 5,
    "start_time": "2023-01-05T20:27:10.625Z"
   },
   {
    "duration": 9,
    "start_time": "2023-01-05T20:27:10.633Z"
   },
   {
    "duration": 14,
    "start_time": "2023-01-05T20:27:10.644Z"
   },
   {
    "duration": 17,
    "start_time": "2023-01-05T20:27:10.660Z"
   },
   {
    "duration": 9,
    "start_time": "2023-01-05T20:27:10.679Z"
   },
   {
    "duration": 7,
    "start_time": "2023-01-05T20:27:10.690Z"
   },
   {
    "duration": 1151,
    "start_time": "2023-01-05T20:27:32.350Z"
   },
   {
    "duration": 72,
    "start_time": "2023-01-05T20:27:33.504Z"
   },
   {
    "duration": 6,
    "start_time": "2023-01-05T20:27:33.577Z"
   },
   {
    "duration": 14,
    "start_time": "2023-01-05T20:27:33.586Z"
   },
   {
    "duration": 14,
    "start_time": "2023-01-05T20:27:33.602Z"
   },
   {
    "duration": 8,
    "start_time": "2023-01-05T20:27:33.618Z"
   },
   {
    "duration": 10,
    "start_time": "2023-01-05T20:27:33.628Z"
   },
   {
    "duration": 44,
    "start_time": "2023-01-05T20:27:33.640Z"
   },
   {
    "duration": 8,
    "start_time": "2023-01-05T20:27:42.563Z"
   },
   {
    "duration": 101,
    "start_time": "2023-01-05T20:28:00.355Z"
   },
   {
    "duration": 1110,
    "start_time": "2023-01-05T20:28:17.412Z"
   },
   {
    "duration": 69,
    "start_time": "2023-01-05T20:28:18.524Z"
   },
   {
    "duration": 4,
    "start_time": "2023-01-05T20:28:18.595Z"
   },
   {
    "duration": 10,
    "start_time": "2023-01-05T20:28:18.600Z"
   },
   {
    "duration": 14,
    "start_time": "2023-01-05T20:28:18.612Z"
   },
   {
    "duration": 7,
    "start_time": "2023-01-05T20:28:18.628Z"
   },
   {
    "duration": 9,
    "start_time": "2023-01-05T20:28:18.636Z"
   },
   {
    "duration": 7,
    "start_time": "2023-01-05T20:28:18.681Z"
   },
   {
    "duration": 16,
    "start_time": "2023-01-05T20:29:08.355Z"
   },
   {
    "duration": 1069,
    "start_time": "2023-01-06T11:53:09.218Z"
   },
   {
    "duration": 104,
    "start_time": "2023-01-06T11:53:10.289Z"
   },
   {
    "duration": 4,
    "start_time": "2023-01-06T11:53:10.394Z"
   },
   {
    "duration": 12,
    "start_time": "2023-01-06T11:53:10.399Z"
   },
   {
    "duration": 13,
    "start_time": "2023-01-06T11:53:10.412Z"
   },
   {
    "duration": 5,
    "start_time": "2023-01-06T11:53:10.426Z"
   },
   {
    "duration": 9,
    "start_time": "2023-01-06T11:53:10.432Z"
   },
   {
    "duration": 5,
    "start_time": "2023-01-06T11:53:10.442Z"
   },
   {
    "duration": 91,
    "start_time": "2023-01-06T11:53:18.870Z"
   },
   {
    "duration": 16,
    "start_time": "2023-01-06T11:53:53.449Z"
   },
   {
    "duration": 19,
    "start_time": "2023-01-06T11:54:17.073Z"
   },
   {
    "duration": 16,
    "start_time": "2023-01-06T11:54:51.120Z"
   },
   {
    "duration": 12,
    "start_time": "2023-01-06T11:54:58.403Z"
   },
   {
    "duration": 185,
    "start_time": "2023-01-06T19:14:40.490Z"
   },
   {
    "duration": 1026,
    "start_time": "2023-01-08T12:09:17.245Z"
   },
   {
    "duration": 4,
    "start_time": "2023-01-08T12:15:55.338Z"
   },
   {
    "duration": 184,
    "start_time": "2023-01-08T12:15:55.344Z"
   },
   {
    "duration": 4,
    "start_time": "2023-01-08T12:15:55.529Z"
   },
   {
    "duration": 10,
    "start_time": "2023-01-08T12:15:55.535Z"
   },
   {
    "duration": 12,
    "start_time": "2023-01-08T12:15:55.547Z"
   },
   {
    "duration": 4,
    "start_time": "2023-01-08T12:15:55.561Z"
   },
   {
    "duration": 16,
    "start_time": "2023-01-08T12:15:55.566Z"
   },
   {
    "duration": 5,
    "start_time": "2023-01-08T12:15:55.584Z"
   },
   {
    "duration": 12,
    "start_time": "2023-01-08T12:16:02.211Z"
   },
   {
    "duration": 113,
    "start_time": "2023-01-08T12:16:05.146Z"
   },
   {
    "duration": 21,
    "start_time": "2023-01-08T12:17:24.552Z"
   },
   {
    "duration": 23,
    "start_time": "2023-01-08T12:23:32.277Z"
   },
   {
    "duration": 23,
    "start_time": "2023-01-08T12:24:39.656Z"
   },
   {
    "duration": 266,
    "start_time": "2023-01-08T12:25:28.135Z"
   },
   {
    "duration": 19,
    "start_time": "2023-01-08T12:30:21.009Z"
   },
   {
    "duration": 1150,
    "start_time": "2023-01-15T11:19:54.154Z"
   },
   {
    "duration": 198,
    "start_time": "2023-01-15T11:19:55.306Z"
   },
   {
    "duration": 3,
    "start_time": "2023-01-15T11:19:55.506Z"
   },
   {
    "duration": 13,
    "start_time": "2023-01-15T11:19:55.511Z"
   },
   {
    "duration": 15,
    "start_time": "2023-01-15T11:19:55.526Z"
   },
   {
    "duration": 4,
    "start_time": "2023-01-15T11:19:55.542Z"
   },
   {
    "duration": 9,
    "start_time": "2023-01-15T11:19:55.548Z"
   },
   {
    "duration": 19,
    "start_time": "2023-01-15T11:19:55.578Z"
   },
   {
    "duration": 13,
    "start_time": "2023-01-15T11:19:57.616Z"
   },
   {
    "duration": 4,
    "start_time": "2023-01-15T12:01:47.843Z"
   },
   {
    "duration": 1096,
    "start_time": "2023-01-16T19:34:21.988Z"
   },
   {
    "duration": 113,
    "start_time": "2023-01-16T19:34:28.990Z"
   },
   {
    "duration": 4,
    "start_time": "2023-01-16T19:34:40.593Z"
   },
   {
    "duration": 11,
    "start_time": "2023-01-16T19:34:43.863Z"
   },
   {
    "duration": 13,
    "start_time": "2023-01-16T19:34:58.341Z"
   },
   {
    "duration": 5,
    "start_time": "2023-01-16T19:35:02.763Z"
   },
   {
    "duration": 11,
    "start_time": "2023-01-16T19:36:41.345Z"
   },
   {
    "duration": 7,
    "start_time": "2023-01-16T19:36:46.043Z"
   },
   {
    "duration": 13,
    "start_time": "2023-01-16T19:36:56.527Z"
   },
   {
    "duration": 6,
    "start_time": "2023-01-16T19:51:50.652Z"
   },
   {
    "duration": 27,
    "start_time": "2023-01-16T19:51:55.223Z"
   },
   {
    "duration": 44,
    "start_time": "2023-01-16T19:51:59.827Z"
   },
   {
    "duration": 120,
    "start_time": "2023-01-16T19:52:06.296Z"
   },
   {
    "duration": 19,
    "start_time": "2023-01-16T19:52:36.467Z"
   },
   {
    "duration": 73,
    "start_time": "2023-01-16T19:53:08.757Z"
   },
   {
    "duration": 5,
    "start_time": "2023-01-16T19:58:02.651Z"
   },
   {
    "duration": 21,
    "start_time": "2023-01-16T19:58:25.896Z"
   },
   {
    "duration": 6,
    "start_time": "2023-01-16T19:59:51.695Z"
   },
   {
    "duration": 1133,
    "start_time": "2023-01-17T19:30:35.663Z"
   },
   {
    "duration": 105,
    "start_time": "2023-01-17T19:30:36.798Z"
   },
   {
    "duration": 4,
    "start_time": "2023-01-17T19:30:36.905Z"
   },
   {
    "duration": 14,
    "start_time": "2023-01-17T19:30:36.911Z"
   },
   {
    "duration": 16,
    "start_time": "2023-01-17T19:30:36.928Z"
   },
   {
    "duration": 4,
    "start_time": "2023-01-17T19:30:36.946Z"
   },
   {
    "duration": 30,
    "start_time": "2023-01-17T19:30:36.952Z"
   },
   {
    "duration": 6,
    "start_time": "2023-01-17T19:30:36.984Z"
   },
   {
    "duration": 13,
    "start_time": "2023-01-17T19:30:36.991Z"
   },
   {
    "duration": 4,
    "start_time": "2023-01-17T19:30:37.006Z"
   },
   {
    "duration": 38,
    "start_time": "2023-01-17T19:30:37.012Z"
   },
   {
    "duration": 54,
    "start_time": "2023-01-17T19:30:37.052Z"
   },
   {
    "duration": 23,
    "start_time": "2023-01-17T19:30:37.108Z"
   },
   {
    "duration": 5,
    "start_time": "2023-01-17T19:30:37.133Z"
   },
   {
    "duration": 27,
    "start_time": "2023-01-17T19:31:07.180Z"
   },
   {
    "duration": 109,
    "start_time": "2023-01-17T19:39:06.896Z"
   },
   {
    "duration": 19,
    "start_time": "2023-01-17T19:39:26.713Z"
   },
   {
    "duration": 26,
    "start_time": "2023-01-17T19:40:42.372Z"
   },
   {
    "duration": 8,
    "start_time": "2023-01-17T19:43:44.451Z"
   },
   {
    "duration": 221,
    "start_time": "2023-01-17T19:47:05.350Z"
   },
   {
    "duration": 226,
    "start_time": "2023-01-17T19:48:16.920Z"
   },
   {
    "duration": 232,
    "start_time": "2023-01-17T19:48:20.838Z"
   },
   {
    "duration": 69,
    "start_time": "2023-01-17T19:49:34.416Z"
   },
   {
    "duration": 228,
    "start_time": "2023-01-17T19:50:55.531Z"
   },
   {
    "duration": 807,
    "start_time": "2023-01-17T19:51:47.186Z"
   },
   {
    "duration": 27855,
    "start_time": "2023-01-17T19:52:55.823Z"
   },
   {
    "duration": 310352,
    "start_time": "2023-01-17T19:54:18.533Z"
   },
   {
    "duration": 29863,
    "start_time": "2023-01-17T20:06:14.325Z"
   },
   {
    "duration": 40,
    "start_time": "2023-01-17T20:09:12.399Z"
   },
   {
    "duration": 29,
    "start_time": "2023-01-17T20:10:10.465Z"
   },
   {
    "duration": 146,
    "start_time": "2023-01-17T20:10:47.129Z"
   },
   {
    "duration": 88,
    "start_time": "2023-01-17T20:11:20.590Z"
   },
   {
    "duration": 398,
    "start_time": "2023-01-17T20:17:02.541Z"
   },
   {
    "duration": 779,
    "start_time": "2023-01-17T20:17:12.768Z"
   },
   {
    "duration": 7367,
    "start_time": "2023-01-17T20:17:19.516Z"
   },
   {
    "duration": 719,
    "start_time": "2023-01-17T20:17:52.040Z"
   },
   {
    "duration": 36195,
    "start_time": "2023-01-17T20:17:58.707Z"
   },
   {
    "duration": 35368,
    "start_time": "2023-01-17T20:20:14.357Z"
   },
   {
    "duration": 1176,
    "start_time": "2023-03-06T14:12:30.127Z"
   },
   {
    "duration": 5,
    "start_time": "2023-03-06T14:25:02.099Z"
   },
   {
    "duration": 4,
    "start_time": "2023-03-06T14:25:20.909Z"
   },
   {
    "duration": 112,
    "start_time": "2023-03-06T14:25:20.917Z"
   },
   {
    "duration": 3,
    "start_time": "2023-03-06T14:25:21.031Z"
   },
   {
    "duration": 12,
    "start_time": "2023-03-06T14:25:21.036Z"
   },
   {
    "duration": 19,
    "start_time": "2023-03-06T14:25:21.050Z"
   },
   {
    "duration": 5,
    "start_time": "2023-03-06T14:25:21.072Z"
   },
   {
    "duration": 17,
    "start_time": "2023-03-06T14:25:21.079Z"
   },
   {
    "duration": 8,
    "start_time": "2023-03-06T14:25:21.097Z"
   },
   {
    "duration": 13,
    "start_time": "2023-03-06T14:25:21.107Z"
   },
   {
    "duration": 4,
    "start_time": "2023-03-06T14:25:21.121Z"
   },
   {
    "duration": 28,
    "start_time": "2023-03-06T14:25:21.126Z"
   },
   {
    "duration": 49,
    "start_time": "2023-03-06T14:25:21.155Z"
   },
   {
    "duration": 23,
    "start_time": "2023-03-06T14:25:21.206Z"
   },
   {
    "duration": 5,
    "start_time": "2023-03-06T14:25:21.231Z"
   },
   {
    "duration": 47,
    "start_time": "2023-03-06T14:25:21.239Z"
   },
   {
    "duration": 245,
    "start_time": "2023-03-06T14:25:21.288Z"
   },
   {
    "duration": 1164,
    "start_time": "2023-03-06T14:26:33.484Z"
   },
   {
    "duration": 68,
    "start_time": "2023-03-06T14:26:34.650Z"
   },
   {
    "duration": 4,
    "start_time": "2023-03-06T14:26:34.720Z"
   },
   {
    "duration": 10,
    "start_time": "2023-03-06T14:26:34.726Z"
   },
   {
    "duration": 23,
    "start_time": "2023-03-06T14:26:34.739Z"
   },
   {
    "duration": 13,
    "start_time": "2023-03-06T14:26:34.763Z"
   },
   {
    "duration": 13,
    "start_time": "2023-03-06T14:26:34.777Z"
   },
   {
    "duration": 6,
    "start_time": "2023-03-06T14:26:34.792Z"
   },
   {
    "duration": 13,
    "start_time": "2023-03-06T14:26:34.799Z"
   },
   {
    "duration": 4,
    "start_time": "2023-03-06T14:26:34.813Z"
   },
   {
    "duration": 27,
    "start_time": "2023-03-06T14:26:34.819Z"
   },
   {
    "duration": 56,
    "start_time": "2023-03-06T14:26:34.848Z"
   },
   {
    "duration": 24,
    "start_time": "2023-03-06T14:26:34.906Z"
   },
   {
    "duration": 5,
    "start_time": "2023-03-06T14:26:34.933Z"
   },
   {
    "duration": 45,
    "start_time": "2023-03-06T14:26:34.940Z"
   },
   {
    "duration": 255,
    "start_time": "2023-03-06T14:26:34.987Z"
   },
   {
    "duration": 4,
    "start_time": "2023-03-06T14:26:58.115Z"
   },
   {
    "duration": 108,
    "start_time": "2023-03-06T14:34:44.516Z"
   },
   {
    "duration": 10,
    "start_time": "2023-03-06T14:34:51.015Z"
   },
   {
    "duration": 88,
    "start_time": "2023-03-06T14:36:43.394Z"
   },
   {
    "duration": 13,
    "start_time": "2023-03-06T14:46:40.499Z"
   },
   {
    "duration": 10,
    "start_time": "2023-03-06T14:47:00.440Z"
   },
   {
    "duration": 4,
    "start_time": "2023-03-06T14:47:46.859Z"
   },
   {
    "duration": 14,
    "start_time": "2023-03-06T14:47:52.993Z"
   },
   {
    "duration": 4,
    "start_time": "2023-03-06T14:48:54.309Z"
   },
   {
    "duration": 18,
    "start_time": "2023-03-06T14:48:55.693Z"
   },
   {
    "duration": 5,
    "start_time": "2023-03-06T14:50:03.491Z"
   },
   {
    "duration": 18,
    "start_time": "2023-03-06T14:50:06.124Z"
   },
   {
    "duration": 19,
    "start_time": "2023-03-06T14:51:17.539Z"
   },
   {
    "duration": 5,
    "start_time": "2023-03-06T14:51:26.704Z"
   },
   {
    "duration": 18,
    "start_time": "2023-03-06T14:51:31.988Z"
   },
   {
    "duration": 8,
    "start_time": "2023-03-26T20:35:55.714Z"
   },
   {
    "duration": 5,
    "start_time": "2023-03-26T20:38:03.987Z"
   },
   {
    "duration": 1191,
    "start_time": "2023-03-26T20:38:42.793Z"
   },
   {
    "duration": 177,
    "start_time": "2023-03-26T20:38:43.989Z"
   },
   {
    "duration": 11,
    "start_time": "2023-03-26T20:38:44.168Z"
   },
   {
    "duration": 21,
    "start_time": "2023-03-26T20:38:44.184Z"
   },
   {
    "duration": 24,
    "start_time": "2023-03-26T20:38:44.208Z"
   },
   {
    "duration": 8,
    "start_time": "2023-03-26T20:38:44.235Z"
   },
   {
    "duration": 37,
    "start_time": "2023-03-26T20:38:44.245Z"
   },
   {
    "duration": 23,
    "start_time": "2023-03-26T20:38:44.284Z"
   },
   {
    "duration": 16,
    "start_time": "2023-03-26T20:38:44.309Z"
   },
   {
    "duration": 5,
    "start_time": "2023-03-26T20:38:44.327Z"
   },
   {
    "duration": 57,
    "start_time": "2023-03-26T20:38:44.334Z"
   },
   {
    "duration": 50,
    "start_time": "2023-03-26T20:38:44.396Z"
   },
   {
    "duration": 55,
    "start_time": "2023-03-26T20:38:44.448Z"
   },
   {
    "duration": 7,
    "start_time": "2023-03-26T20:38:44.506Z"
   },
   {
    "duration": 65,
    "start_time": "2023-03-26T20:38:44.515Z"
   },
   {
    "duration": 343,
    "start_time": "2023-03-26T20:38:44.583Z"
   },
   {
    "duration": 5,
    "start_time": "2023-03-26T20:38:54.289Z"
   },
   {
    "duration": 165,
    "start_time": "2023-03-26T20:39:06.121Z"
   },
   {
    "duration": 9,
    "start_time": "2023-03-26T20:55:49.274Z"
   },
   {
    "duration": 10,
    "start_time": "2023-03-26T20:56:02.901Z"
   },
   {
    "duration": 10,
    "start_time": "2023-03-26T20:56:27.905Z"
   },
   {
    "duration": 11,
    "start_time": "2023-03-26T21:00:44.581Z"
   },
   {
    "duration": 4,
    "start_time": "2023-03-26T21:01:16.469Z"
   },
   {
    "duration": 9,
    "start_time": "2023-03-26T21:01:33.328Z"
   },
   {
    "duration": 27715,
    "start_time": "2023-03-26T21:02:16.704Z"
   },
   {
    "duration": 94,
    "start_time": "2023-03-26T21:04:21.492Z"
   },
   {
    "duration": 28515,
    "start_time": "2023-03-26T21:04:56.840Z"
   },
   {
    "duration": 4,
    "start_time": "2023-03-26T21:08:54.573Z"
   },
   {
    "duration": 28149,
    "start_time": "2023-03-26T21:10:40.917Z"
   },
   {
    "duration": 27339,
    "start_time": "2023-03-26T21:15:29.445Z"
   },
   {
    "duration": 0,
    "start_time": "2023-03-26T21:15:56.785Z"
   },
   {
    "duration": 108683,
    "start_time": "2023-03-26T21:16:33.030Z"
   },
   {
    "duration": 0,
    "start_time": "2023-03-26T21:18:21.714Z"
   },
   {
    "duration": 69,
    "start_time": "2023-03-26T21:18:26.762Z"
   },
   {
    "duration": 22,
    "start_time": "2023-03-26T21:18:39.973Z"
   },
   {
    "duration": 0,
    "start_time": "2023-03-26T21:40:04.769Z"
   },
   {
    "duration": 0,
    "start_time": "2023-03-26T21:40:04.772Z"
   },
   {
    "duration": 110046,
    "start_time": "2023-03-27T07:07:04.635Z"
   },
   {
    "duration": 11,
    "start_time": "2023-03-27T19:55:20.205Z"
   },
   {
    "duration": 1627,
    "start_time": "2023-03-27T19:55:24.863Z"
   },
   {
    "duration": 195,
    "start_time": "2023-03-27T19:55:26.500Z"
   },
   {
    "duration": 5,
    "start_time": "2023-03-27T19:55:26.696Z"
   },
   {
    "duration": 9,
    "start_time": "2023-03-27T19:55:26.703Z"
   },
   {
    "duration": 13,
    "start_time": "2023-03-27T19:55:26.714Z"
   },
   {
    "duration": 5,
    "start_time": "2023-03-27T19:55:26.728Z"
   },
   {
    "duration": 10,
    "start_time": "2023-03-27T19:55:26.734Z"
   },
   {
    "duration": 38,
    "start_time": "2023-03-27T19:55:26.745Z"
   },
   {
    "duration": 27,
    "start_time": "2023-03-27T19:55:26.791Z"
   },
   {
    "duration": 4,
    "start_time": "2023-03-27T19:55:26.821Z"
   },
   {
    "duration": 34,
    "start_time": "2023-03-27T19:55:26.827Z"
   },
   {
    "duration": 57,
    "start_time": "2023-03-27T19:55:26.863Z"
   },
   {
    "duration": 25,
    "start_time": "2023-03-27T19:55:26.923Z"
   },
   {
    "duration": 5,
    "start_time": "2023-03-27T19:55:26.949Z"
   },
   {
    "duration": 34,
    "start_time": "2023-03-27T19:55:26.956Z"
   },
   {
    "duration": 123,
    "start_time": "2023-03-27T19:55:26.993Z"
   },
   {
    "duration": 0,
    "start_time": "2023-03-27T19:55:27.118Z"
   },
   {
    "duration": 0,
    "start_time": "2023-03-27T19:55:27.119Z"
   },
   {
    "duration": 10,
    "start_time": "2023-03-27T19:55:34.795Z"
   },
   {
    "duration": 0,
    "start_time": "2023-03-27T19:56:05.166Z"
   },
   {
    "duration": 6940,
    "start_time": "2023-03-27T19:56:07.040Z"
   },
   {
    "duration": 525619,
    "start_time": "2023-03-27T19:56:31.826Z"
   },
   {
    "duration": 29,
    "start_time": "2023-03-27T20:05:21.129Z"
   },
   {
    "duration": 23,
    "start_time": "2023-03-27T20:09:05.712Z"
   },
   {
    "duration": 12500,
    "start_time": "2023-03-27T20:09:33.841Z"
   },
   {
    "duration": 7,
    "start_time": "2023-03-27T20:10:56.267Z"
   },
   {
    "duration": 7193,
    "start_time": "2023-03-27T20:11:17.653Z"
   },
   {
    "duration": 5,
    "start_time": "2023-03-27T20:14:24.310Z"
   },
   {
    "duration": 7352,
    "start_time": "2023-03-27T20:14:44.484Z"
   },
   {
    "duration": 7037,
    "start_time": "2023-03-27T20:17:54.561Z"
   },
   {
    "duration": 5,
    "start_time": "2023-03-27T20:18:39.688Z"
   },
   {
    "duration": 6977,
    "start_time": "2023-03-27T20:18:57.000Z"
   },
   {
    "duration": 4,
    "start_time": "2023-03-27T20:21:38.206Z"
   },
   {
    "duration": 6773,
    "start_time": "2023-03-27T20:21:40.047Z"
   },
   {
    "duration": 5,
    "start_time": "2023-03-27T20:22:22.091Z"
   },
   {
    "duration": 6854,
    "start_time": "2023-03-27T20:22:22.725Z"
   },
   {
    "duration": 5,
    "start_time": "2023-03-27T20:22:43.412Z"
   },
   {
    "duration": 6788,
    "start_time": "2023-03-27T20:22:52.954Z"
   },
   {
    "duration": 6,
    "start_time": "2023-03-27T20:24:30.441Z"
   },
   {
    "duration": 6804,
    "start_time": "2023-03-27T20:24:31.420Z"
   },
   {
    "duration": 4,
    "start_time": "2023-03-27T20:25:00.340Z"
   },
   {
    "duration": 222967,
    "start_time": "2023-03-27T20:26:46.369Z"
   },
   {
    "duration": 66131,
    "start_time": "2023-03-27T20:32:31.442Z"
   },
   {
    "duration": 7281874,
    "start_time": "2023-03-27T20:34:26.908Z"
   },
   {
    "duration": 983,
    "start_time": "2023-03-28T05:29:36.292Z"
   },
   {
    "duration": 55,
    "start_time": "2023-03-28T05:29:37.276Z"
   },
   {
    "duration": 4,
    "start_time": "2023-03-28T05:29:37.332Z"
   },
   {
    "duration": 14,
    "start_time": "2023-03-28T05:29:37.337Z"
   },
   {
    "duration": 25,
    "start_time": "2023-03-28T05:29:37.352Z"
   },
   {
    "duration": 3,
    "start_time": "2023-03-28T05:29:37.378Z"
   },
   {
    "duration": 8,
    "start_time": "2023-03-28T05:29:37.383Z"
   },
   {
    "duration": 4,
    "start_time": "2023-03-28T05:29:37.392Z"
   },
   {
    "duration": 14,
    "start_time": "2023-03-28T05:29:37.398Z"
   },
   {
    "duration": 4,
    "start_time": "2023-03-28T05:29:37.414Z"
   },
   {
    "duration": 19,
    "start_time": "2023-03-28T05:29:37.419Z"
   },
   {
    "duration": 49,
    "start_time": "2023-03-28T05:29:37.439Z"
   },
   {
    "duration": 18,
    "start_time": "2023-03-28T05:29:37.490Z"
   },
   {
    "duration": 5,
    "start_time": "2023-03-28T05:29:37.510Z"
   },
   {
    "duration": 30,
    "start_time": "2023-03-28T05:29:37.516Z"
   },
   {
    "duration": 98,
    "start_time": "2023-03-28T05:29:37.547Z"
   },
   {
    "duration": 0,
    "start_time": "2023-03-28T05:29:37.646Z"
   },
   {
    "duration": 0,
    "start_time": "2023-03-28T05:29:37.648Z"
   },
   {
    "duration": 0,
    "start_time": "2023-03-28T05:29:37.648Z"
   },
   {
    "duration": 0,
    "start_time": "2023-03-28T05:29:37.649Z"
   },
   {
    "duration": 0,
    "start_time": "2023-03-28T05:29:37.650Z"
   },
   {
    "duration": 0,
    "start_time": "2023-03-28T05:29:37.651Z"
   },
   {
    "duration": 0,
    "start_time": "2023-03-28T05:29:37.652Z"
   },
   {
    "duration": 0,
    "start_time": "2023-03-28T05:29:37.653Z"
   },
   {
    "duration": 0,
    "start_time": "2023-03-28T05:29:37.668Z"
   },
   {
    "duration": 0,
    "start_time": "2023-03-28T05:29:37.669Z"
   },
   {
    "duration": 0,
    "start_time": "2023-03-28T05:29:37.670Z"
   },
   {
    "duration": 0,
    "start_time": "2023-03-28T05:29:37.671Z"
   },
   {
    "duration": 0,
    "start_time": "2023-03-28T05:29:37.672Z"
   },
   {
    "duration": 0,
    "start_time": "2023-03-28T05:29:37.673Z"
   },
   {
    "duration": 0,
    "start_time": "2023-03-28T05:29:37.673Z"
   },
   {
    "duration": 4,
    "start_time": "2023-03-28T05:30:04.486Z"
   },
   {
    "duration": 5834,
    "start_time": "2023-03-28T05:30:07.458Z"
   },
   {
    "duration": 2790474,
    "start_time": "2023-03-28T05:30:13.294Z"
   },
   {
    "duration": 316615,
    "start_time": "2023-03-28T06:16:43.770Z"
   },
   {
    "duration": 0,
    "start_time": "2023-03-28T06:22:00.387Z"
   },
   {
    "duration": 49,
    "start_time": "2023-03-28T18:24:03.808Z"
   },
   {
    "duration": 1057,
    "start_time": "2023-03-28T18:24:17.095Z"
   },
   {
    "duration": 189,
    "start_time": "2023-03-28T18:24:21.213Z"
   },
   {
    "duration": 5,
    "start_time": "2023-03-28T18:24:21.624Z"
   },
   {
    "duration": 8,
    "start_time": "2023-03-28T18:24:21.998Z"
   },
   {
    "duration": 13,
    "start_time": "2023-03-28T18:24:22.205Z"
   },
   {
    "duration": 5,
    "start_time": "2023-03-28T18:24:22.707Z"
   },
   {
    "duration": 9,
    "start_time": "2023-03-28T18:24:23.129Z"
   },
   {
    "duration": 6,
    "start_time": "2023-03-28T18:24:23.334Z"
   },
   {
    "duration": 13,
    "start_time": "2023-03-28T18:24:23.714Z"
   },
   {
    "duration": 4,
    "start_time": "2023-03-28T18:24:24.115Z"
   },
   {
    "duration": 21,
    "start_time": "2023-03-28T18:24:24.651Z"
   },
   {
    "duration": 31,
    "start_time": "2023-03-28T18:24:27.152Z"
   },
   {
    "duration": 21,
    "start_time": "2023-03-28T18:24:27.707Z"
   },
   {
    "duration": 5,
    "start_time": "2023-03-28T18:24:31.716Z"
   },
   {
    "duration": 22,
    "start_time": "2023-03-28T18:24:34.203Z"
   },
   {
    "duration": 255,
    "start_time": "2023-03-28T18:24:39.807Z"
   },
   {
    "duration": 5,
    "start_time": "2023-03-28T18:24:45.239Z"
   },
   {
    "duration": 7500,
    "start_time": "2023-03-28T18:24:48.516Z"
   },
   {
    "duration": 322133,
    "start_time": "2023-03-28T18:25:54.061Z"
   },
   {
    "duration": 390078,
    "start_time": "2023-03-28T18:31:16.196Z"
   },
   {
    "duration": 803,
    "start_time": "2023-03-28T18:37:46.277Z"
   },
   {
    "duration": 21357,
    "start_time": "2023-03-28T18:42:38.925Z"
   },
   {
    "duration": 3,
    "start_time": "2023-03-28T18:49:35.832Z"
   },
   {
    "duration": 4,
    "start_time": "2023-03-28T18:52:14.142Z"
   },
   {
    "duration": 5,
    "start_time": "2023-03-28T18:54:21.554Z"
   },
   {
    "duration": 83,
    "start_time": "2023-03-28T18:54:47.535Z"
   },
   {
    "duration": 3,
    "start_time": "2023-03-28T18:55:19.935Z"
   },
   {
    "duration": 41,
    "start_time": "2023-03-28T18:55:21.345Z"
   },
   {
    "duration": 44,
    "start_time": "2023-03-28T18:55:36.942Z"
   },
   {
    "duration": 5,
    "start_time": "2023-03-28T18:55:45.099Z"
   },
   {
    "duration": 36,
    "start_time": "2023-03-28T18:55:45.615Z"
   },
   {
    "duration": 3,
    "start_time": "2023-03-28T18:56:25.640Z"
   },
   {
    "duration": 35,
    "start_time": "2023-03-28T18:56:26.268Z"
   },
   {
    "duration": 840,
    "start_time": "2023-03-28T18:56:40.779Z"
   },
   {
    "duration": 29,
    "start_time": "2023-03-28T18:59:29.706Z"
   },
   {
    "duration": 22,
    "start_time": "2023-03-28T19:00:26.383Z"
   },
   {
    "duration": 95,
    "start_time": "2023-03-28T19:05:16.979Z"
   },
   {
    "duration": 17,
    "start_time": "2023-03-28T19:05:48.531Z"
   },
   {
    "duration": 18,
    "start_time": "2023-03-28T19:06:40.218Z"
   },
   {
    "duration": 6,
    "start_time": "2023-03-28T19:06:57.164Z"
   },
   {
    "duration": 6,
    "start_time": "2023-03-28T19:07:51.191Z"
   },
   {
    "duration": 4,
    "start_time": "2023-03-28T19:08:12.668Z"
   },
   {
    "duration": 14,
    "start_time": "2023-03-28T19:24:49.787Z"
   },
   {
    "duration": 17,
    "start_time": "2023-03-28T19:24:59.285Z"
   },
   {
    "duration": 6,
    "start_time": "2023-03-28T19:25:59.400Z"
   },
   {
    "duration": 11,
    "start_time": "2023-03-28T19:26:16.860Z"
   },
   {
    "duration": 9,
    "start_time": "2023-03-28T19:26:22.070Z"
   },
   {
    "duration": 9,
    "start_time": "2023-03-28T19:26:39.360Z"
   },
   {
    "duration": 11,
    "start_time": "2023-03-28T19:26:46.384Z"
   },
   {
    "duration": 3,
    "start_time": "2023-03-28T19:28:12.123Z"
   },
   {
    "duration": 18,
    "start_time": "2023-03-28T19:29:25.748Z"
   },
   {
    "duration": 5,
    "start_time": "2023-03-28T19:31:04.564Z"
   },
   {
    "duration": 4,
    "start_time": "2023-03-28T19:31:11.593Z"
   },
   {
    "duration": 15,
    "start_time": "2023-03-28T19:31:15.404Z"
   },
   {
    "duration": 4,
    "start_time": "2023-03-28T19:31:33.583Z"
   },
   {
    "duration": 18,
    "start_time": "2023-03-28T19:31:35.097Z"
   },
   {
    "duration": 17,
    "start_time": "2023-03-28T19:48:08.808Z"
   },
   {
    "duration": 1113,
    "start_time": "2023-03-28T19:50:10.694Z"
   },
   {
    "duration": 64,
    "start_time": "2023-03-28T19:50:11.809Z"
   },
   {
    "duration": 3,
    "start_time": "2023-03-28T19:50:11.875Z"
   },
   {
    "duration": 11,
    "start_time": "2023-03-28T19:50:11.880Z"
   },
   {
    "duration": 33,
    "start_time": "2023-03-28T19:50:11.893Z"
   },
   {
    "duration": 6,
    "start_time": "2023-03-28T19:50:11.927Z"
   },
   {
    "duration": 15,
    "start_time": "2023-03-28T19:50:11.935Z"
   },
   {
    "duration": 7,
    "start_time": "2023-03-28T19:50:11.951Z"
   },
   {
    "duration": 26,
    "start_time": "2023-03-28T19:50:11.960Z"
   },
   {
    "duration": 4,
    "start_time": "2023-03-28T19:50:11.988Z"
   },
   {
    "duration": 25,
    "start_time": "2023-03-28T19:50:11.993Z"
   },
   {
    "duration": 29,
    "start_time": "2023-03-28T19:50:12.020Z"
   },
   {
    "duration": 20,
    "start_time": "2023-03-28T19:50:12.072Z"
   },
   {
    "duration": 5,
    "start_time": "2023-03-28T19:50:12.093Z"
   },
   {
    "duration": 26,
    "start_time": "2023-03-28T19:50:12.100Z"
   },
   {
    "duration": 264,
    "start_time": "2023-03-28T19:50:12.127Z"
   },
   {
    "duration": 4,
    "start_time": "2023-03-28T19:50:12.393Z"
   },
   {
    "duration": 7534,
    "start_time": "2023-03-28T19:50:12.398Z"
   },
   {
    "duration": 1752,
    "start_time": "2023-03-28T19:50:19.934Z"
   },
   {
    "duration": 0,
    "start_time": "2023-03-28T19:50:21.688Z"
   },
   {
    "duration": 0,
    "start_time": "2023-03-28T19:50:21.689Z"
   },
   {
    "duration": 0,
    "start_time": "2023-03-28T19:50:21.690Z"
   },
   {
    "duration": 0,
    "start_time": "2023-03-28T19:50:21.691Z"
   },
   {
    "duration": 0,
    "start_time": "2023-03-28T19:50:21.692Z"
   },
   {
    "duration": 0,
    "start_time": "2023-03-28T19:50:21.693Z"
   },
   {
    "duration": 0,
    "start_time": "2023-03-28T19:50:21.695Z"
   },
   {
    "duration": 0,
    "start_time": "2023-03-28T19:50:21.696Z"
   },
   {
    "duration": 0,
    "start_time": "2023-03-28T19:50:21.698Z"
   },
   {
    "duration": 0,
    "start_time": "2023-03-28T19:50:21.699Z"
   },
   {
    "duration": 0,
    "start_time": "2023-03-28T19:50:21.700Z"
   },
   {
    "duration": 0,
    "start_time": "2023-03-28T19:50:21.701Z"
   },
   {
    "duration": 0,
    "start_time": "2023-03-28T19:50:21.702Z"
   },
   {
    "duration": 0,
    "start_time": "2023-03-28T19:50:21.703Z"
   },
   {
    "duration": 0,
    "start_time": "2023-03-28T19:50:21.704Z"
   },
   {
    "duration": 0,
    "start_time": "2023-03-28T19:50:21.704Z"
   },
   {
    "duration": 0,
    "start_time": "2023-03-28T19:50:21.706Z"
   },
   {
    "duration": 1249,
    "start_time": "2023-03-28T19:50:34.876Z"
   },
   {
    "duration": 80,
    "start_time": "2023-03-28T19:50:36.130Z"
   },
   {
    "duration": 6,
    "start_time": "2023-03-28T19:50:36.212Z"
   },
   {
    "duration": 31,
    "start_time": "2023-03-28T19:50:36.221Z"
   },
   {
    "duration": 28,
    "start_time": "2023-03-28T19:50:36.253Z"
   },
   {
    "duration": 32,
    "start_time": "2023-03-28T19:50:36.283Z"
   },
   {
    "duration": 36,
    "start_time": "2023-03-28T19:50:36.317Z"
   },
   {
    "duration": 9,
    "start_time": "2023-03-28T19:50:36.355Z"
   },
   {
    "duration": 74,
    "start_time": "2023-03-28T19:50:36.366Z"
   },
   {
    "duration": 10,
    "start_time": "2023-03-28T19:50:36.442Z"
   },
   {
    "duration": 47,
    "start_time": "2023-03-28T19:50:36.454Z"
   },
   {
    "duration": 35,
    "start_time": "2023-03-28T19:50:36.503Z"
   },
   {
    "duration": 38,
    "start_time": "2023-03-28T19:50:36.540Z"
   },
   {
    "duration": 16,
    "start_time": "2023-03-28T19:50:36.580Z"
   },
   {
    "duration": 134,
    "start_time": "2023-03-28T19:50:36.597Z"
   },
   {
    "duration": 342,
    "start_time": "2023-03-28T19:50:36.733Z"
   },
   {
    "duration": 7,
    "start_time": "2023-03-28T19:50:37.076Z"
   },
   {
    "duration": 8013,
    "start_time": "2023-03-28T19:50:39.802Z"
   },
   {
    "duration": 384868,
    "start_time": "2023-03-28T19:50:47.816Z"
   },
   {
    "duration": 3,
    "start_time": "2023-03-28T19:57:12.686Z"
   },
   {
    "duration": 5,
    "start_time": "2023-03-28T19:57:12.690Z"
   },
   {
    "duration": 38,
    "start_time": "2023-03-28T19:57:12.696Z"
   },
   {
    "duration": 786,
    "start_time": "2023-03-28T19:57:12.736Z"
   },
   {
    "duration": 23462,
    "start_time": "2023-03-28T19:59:05.295Z"
   },
   {
    "duration": 4,
    "start_time": "2023-03-28T19:59:37.919Z"
   },
   {
    "duration": 18,
    "start_time": "2023-03-28T19:59:40.291Z"
   },
   {
    "duration": 4,
    "start_time": "2023-03-28T20:01:43.329Z"
   },
   {
    "duration": 15,
    "start_time": "2023-03-28T20:01:44.444Z"
   },
   {
    "duration": 10,
    "start_time": "2023-03-28T20:03:29.695Z"
   },
   {
    "duration": 3,
    "start_time": "2023-03-28T20:07:45.164Z"
   },
   {
    "duration": 9401,
    "start_time": "2023-03-28T20:08:08.328Z"
   },
   {
    "duration": 13,
    "start_time": "2023-03-28T20:09:15.088Z"
   },
   {
    "duration": 16,
    "start_time": "2023-03-28T20:10:00.624Z"
   },
   {
    "duration": 14,
    "start_time": "2023-03-28T20:10:42.579Z"
   },
   {
    "duration": 14,
    "start_time": "2023-03-28T20:11:20.625Z"
   },
   {
    "duration": 12619,
    "start_time": "2023-03-28T20:12:18.790Z"
   },
   {
    "duration": 536627,
    "start_time": "2023-03-28T20:15:44.670Z"
   },
   {
    "duration": 0,
    "start_time": "2023-03-28T20:24:41.299Z"
   },
   {
    "duration": 733142,
    "start_time": "2023-03-28T20:27:00.588Z"
   },
   {
    "duration": 371950,
    "start_time": "2023-03-28T20:39:13.732Z"
   },
   {
    "duration": 1136,
    "start_time": "2023-03-29T06:37:51.579Z"
   },
   {
    "duration": 103,
    "start_time": "2023-03-29T06:37:52.716Z"
   },
   {
    "duration": 4,
    "start_time": "2023-03-29T06:37:52.821Z"
   },
   {
    "duration": 10,
    "start_time": "2023-03-29T06:37:52.827Z"
   },
   {
    "duration": 14,
    "start_time": "2023-03-29T06:37:52.839Z"
   },
   {
    "duration": 4,
    "start_time": "2023-03-29T06:37:52.855Z"
   },
   {
    "duration": 19,
    "start_time": "2023-03-29T06:37:52.861Z"
   },
   {
    "duration": 23,
    "start_time": "2023-03-29T06:37:52.882Z"
   },
   {
    "duration": 18,
    "start_time": "2023-03-29T06:37:52.907Z"
   },
   {
    "duration": 5,
    "start_time": "2023-03-29T06:37:52.928Z"
   },
   {
    "duration": 24,
    "start_time": "2023-03-29T06:37:52.934Z"
   },
   {
    "duration": 56,
    "start_time": "2023-03-29T06:37:52.959Z"
   },
   {
    "duration": 22,
    "start_time": "2023-03-29T06:37:53.016Z"
   },
   {
    "duration": 4,
    "start_time": "2023-03-29T06:37:53.040Z"
   },
   {
    "duration": 28,
    "start_time": "2023-03-29T06:37:53.046Z"
   },
   {
    "duration": 3,
    "start_time": "2023-03-29T06:37:53.075Z"
   },
   {
    "duration": 25,
    "start_time": "2023-03-29T06:37:53.079Z"
   },
   {
    "duration": 6858,
    "start_time": "2023-03-29T06:37:53.105Z"
   },
   {
    "duration": 394556,
    "start_time": "2023-03-29T06:37:59.965Z"
   },
   {
    "duration": 388012,
    "start_time": "2023-03-29T06:44:34.523Z"
   },
   {
    "duration": 2,
    "start_time": "2023-03-29T06:51:02.537Z"
   },
   {
    "duration": 28,
    "start_time": "2023-03-29T06:51:02.541Z"
   },
   {
    "duration": 19,
    "start_time": "2023-03-29T06:51:02.571Z"
   },
   {
    "duration": 19,
    "start_time": "2023-03-29T06:51:02.592Z"
   },
   {
    "duration": 11,
    "start_time": "2023-03-29T06:51:02.612Z"
   },
   {
    "duration": 59,
    "start_time": "2023-03-29T06:51:02.624Z"
   },
   {
    "duration": 785,
    "start_time": "2023-03-29T06:51:02.684Z"
   },
   {
    "duration": 2,
    "start_time": "2023-03-29T06:51:03.473Z"
   },
   {
    "duration": 11,
    "start_time": "2023-03-29T06:51:03.477Z"
   },
   {
    "duration": 13,
    "start_time": "2023-03-29T06:51:03.490Z"
   },
   {
    "duration": 379404,
    "start_time": "2023-03-29T06:51:03.504Z"
   },
   {
    "duration": 92,
    "start_time": "2023-03-29T06:57:22.912Z"
   },
   {
    "duration": 24,
    "start_time": "2023-03-29T06:57:23.007Z"
   },
   {
    "duration": 13,
    "start_time": "2023-03-29T06:57:23.032Z"
   },
   {
    "duration": 6,
    "start_time": "2023-03-29T06:57:23.047Z"
   },
   {
    "duration": 12550,
    "start_time": "2023-03-29T06:57:23.055Z"
   },
   {
    "duration": 749767,
    "start_time": "2023-03-29T06:57:35.607Z"
   },
   {
    "duration": 137,
    "start_time": "2023-03-29T07:10:05.375Z"
   },
   {
    "duration": 0,
    "start_time": "2023-03-29T07:10:05.513Z"
   },
   {
    "duration": 4,
    "start_time": "2023-03-29T07:27:48.307Z"
   },
   {
    "duration": 4,
    "start_time": "2023-03-29T07:28:42.454Z"
   },
   {
    "duration": 107,
    "start_time": "2023-03-29T07:29:21.485Z"
   },
   {
    "duration": 3,
    "start_time": "2023-03-29T07:29:24.906Z"
   },
   {
    "duration": 38,
    "start_time": "2023-03-29T07:29:27.307Z"
   },
   {
    "duration": 1075,
    "start_time": "2023-03-29T07:29:46.619Z"
   },
   {
    "duration": 9,
    "start_time": "2023-03-29T07:34:15.525Z"
   },
   {
    "duration": 21,
    "start_time": "2023-03-29T07:40:16.840Z"
   },
   {
    "duration": 13,
    "start_time": "2023-03-29T07:45:29.301Z"
   },
   {
    "duration": 1201,
    "start_time": "2023-03-29T07:46:07.107Z"
   },
   {
    "duration": 63,
    "start_time": "2023-03-29T07:46:08.310Z"
   },
   {
    "duration": 4,
    "start_time": "2023-03-29T07:46:08.375Z"
   },
   {
    "duration": 9,
    "start_time": "2023-03-29T07:46:08.380Z"
   },
   {
    "duration": 15,
    "start_time": "2023-03-29T07:46:08.391Z"
   },
   {
    "duration": 4,
    "start_time": "2023-03-29T07:46:08.408Z"
   },
   {
    "duration": 11,
    "start_time": "2023-03-29T07:46:08.414Z"
   },
   {
    "duration": 6,
    "start_time": "2023-03-29T07:46:08.427Z"
   },
   {
    "duration": 18,
    "start_time": "2023-03-29T07:46:08.435Z"
   },
   {
    "duration": 4,
    "start_time": "2023-03-29T07:46:08.455Z"
   },
   {
    "duration": 52,
    "start_time": "2023-03-29T07:46:08.461Z"
   },
   {
    "duration": 35,
    "start_time": "2023-03-29T07:46:08.515Z"
   },
   {
    "duration": 23,
    "start_time": "2023-03-29T07:46:08.552Z"
   },
   {
    "duration": 6,
    "start_time": "2023-03-29T07:46:08.576Z"
   },
   {
    "duration": 24,
    "start_time": "2023-03-29T07:46:08.603Z"
   },
   {
    "duration": 3,
    "start_time": "2023-03-29T07:46:08.628Z"
   },
   {
    "duration": 11,
    "start_time": "2023-03-29T07:46:08.632Z"
   },
   {
    "duration": 7133,
    "start_time": "2023-03-29T07:46:08.644Z"
   },
   {
    "duration": 366740,
    "start_time": "2023-03-29T07:46:15.779Z"
   },
   {
    "duration": 392196,
    "start_time": "2023-03-29T07:52:22.521Z"
   },
   {
    "duration": 2,
    "start_time": "2023-03-29T07:58:54.719Z"
   },
   {
    "duration": 6,
    "start_time": "2023-03-29T07:58:54.723Z"
   },
   {
    "duration": 6,
    "start_time": "2023-03-29T07:58:54.731Z"
   },
   {
    "duration": 4,
    "start_time": "2023-03-29T07:58:54.738Z"
   },
   {
    "duration": 4,
    "start_time": "2023-03-29T07:58:54.744Z"
   },
   {
    "duration": 38,
    "start_time": "2023-03-29T07:58:54.749Z"
   },
   {
    "duration": 792,
    "start_time": "2023-03-29T07:58:54.788Z"
   },
   {
    "duration": 2,
    "start_time": "2023-03-29T07:58:55.584Z"
   },
   {
    "duration": 19,
    "start_time": "2023-03-29T07:58:55.588Z"
   },
   {
    "duration": 5,
    "start_time": "2023-03-29T07:58:55.609Z"
   },
   {
    "duration": 379204,
    "start_time": "2023-03-29T07:58:55.616Z"
   },
   {
    "duration": 188,
    "start_time": "2023-03-29T08:05:14.821Z"
   },
   {
    "duration": 11,
    "start_time": "2023-03-29T08:05:15.011Z"
   },
   {
    "duration": 139,
    "start_time": "2023-03-29T08:05:15.025Z"
   },
   {
    "duration": 0,
    "start_time": "2023-03-29T08:05:15.165Z"
   },
   {
    "duration": 0,
    "start_time": "2023-03-29T08:05:15.167Z"
   },
   {
    "duration": 0,
    "start_time": "2023-03-29T08:05:15.168Z"
   },
   {
    "duration": 0,
    "start_time": "2023-03-29T08:05:15.169Z"
   },
   {
    "duration": 12171,
    "start_time": "2023-03-29T08:06:32.435Z"
   },
   {
    "duration": 755024,
    "start_time": "2023-03-29T08:06:52.089Z"
   },
   {
    "duration": 4,
    "start_time": "2023-03-29T08:19:27.116Z"
   },
   {
    "duration": 55,
    "start_time": "2023-03-29T08:19:27.122Z"
   },
   {
    "duration": 1038,
    "start_time": "2023-03-29T08:19:27.179Z"
   },
   {
    "duration": 9,
    "start_time": "2023-04-18T20:13:49.142Z"
   }
  ],
  "kernelspec": {
   "display_name": "Python 3 (ipykernel)",
   "language": "python",
   "name": "python3"
  },
  "language_info": {
   "codemirror_mode": {
    "name": "ipython",
    "version": 3
   },
   "file_extension": ".py",
   "mimetype": "text/x-python",
   "name": "python",
   "nbconvert_exporter": "python",
   "pygments_lexer": "ipython3",
   "version": "3.9.7"
  },
  "toc": {
   "base_numbering": 1,
   "nav_menu": {},
   "number_sections": true,
   "sideBar": true,
   "skip_h1_title": true,
   "title_cell": "Содержание",
   "title_sidebar": "Contents",
   "toc_cell": true,
   "toc_position": {
    "height": "calc(100% - 180px)",
    "left": "10px",
    "top": "150px",
    "width": "165px"
   },
   "toc_section_display": true,
   "toc_window_display": true
  }
 },
 "nbformat": 4,
 "nbformat_minor": 2
}
